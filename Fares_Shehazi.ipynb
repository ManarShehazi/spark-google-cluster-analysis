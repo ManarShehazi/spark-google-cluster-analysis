{
  "cells": [
    {
      "cell_type": "markdown",
      "metadata": {
        "id": "5SizYdivNYJT"
      },
      "source": [
        "# Spark Project"
      ]
    },
    {
      "cell_type": "markdown",
      "metadata": {
        "id": "zpnVZixQVxyg"
      },
      "source": [
        "## Install Java and Spark dependencies"
      ]
    },
    {
      "cell_type": "code",
      "execution_count": 6,
      "metadata": {
        "id": "zwj-2g0hJ5fi"
      },
      "outputs": [],
      "source": [
        "# Install Java 8 for Spark\n",
        "!apt-get install openjdk-8-jdk-headless -qq > /dev/null\n",
        "\n",
        "# Download and extract Apache Spark\n",
        "!wget -q https://archive.apache.org/dist/spark/spark-3.0.1/spark-3.0.1-bin-hadoop2.7.tgz\n",
        "!tar xf spark-3.0.1-bin-hadoop2.7.tgz\n",
        "\n",
        "# Install the Python library for Spark integration\n",
        "!pip install -q findspark"
      ]
    },
    {
      "cell_type": "markdown",
      "metadata": {
        "id": "dvnkOiniV6um"
      },
      "source": [
        "## Set environment variables for Java and Spark"
      ]
    },
    {
      "cell_type": "code",
      "execution_count": 8,
      "metadata": {
        "id": "muk5FBRWKfw4"
      },
      "outputs": [],
      "source": [
        "def setup_environment():\n",
        "    import os\n",
        "    os.environ[\"JAVA_HOME\"] = \"/usr/lib/jvm/java-8-openjdk-amd64\"\n",
        "    os.environ[\"SPARK_HOME\"] = \"/content/spark-3.0.1-bin-hadoop2.7\"\n",
        "setup_environment()"
      ]
    },
    {
      "cell_type": "code",
      "source": [
        "!apt-get install openjdk-8-jdk-headless -qq > /dev/null"
      ],
      "metadata": {
        "id": "7BCdzh9dI0l1"
      },
      "execution_count": 9,
      "outputs": []
    },
    {
      "cell_type": "code",
      "source": [
        "import os\n",
        "os.environ[\"JAVA_HOME\"] = \"/usr/lib/jvm/java-8-openjdk-amd64\"\n"
      ],
      "metadata": {
        "id": "UJB0HP-DJS2i"
      },
      "execution_count": 10,
      "outputs": []
    },
    {
      "cell_type": "code",
      "source": [
        "!wget -q https://archive.apache.org/dist/spark/spark-3.0.1/spark-3.0.1-bin-hadoop2.7.tgz\n",
        "!tar xf spark-3.0.1-bin-hadoop2.7.tgz\n"
      ],
      "metadata": {
        "id": "v24FRQfQJXC8"
      },
      "execution_count": 11,
      "outputs": []
    },
    {
      "cell_type": "code",
      "execution_count": 12,
      "metadata": {
        "colab": {
          "base_uri": "https://localhost:8080/"
        },
        "id": "4dvp1PuhKgbk",
        "outputId": "6bae9a5a-f5d2-49de-af0e-6729b08783fa"
      },
      "outputs": [
        {
          "output_type": "stream",
          "name": "stdout",
          "text": [
            "2\n"
          ]
        }
      ],
      "source": [
        "import findspark\n",
        "findspark.init()\n",
        "from pyspark.sql import SparkSession\n",
        "\n",
        "spark = SparkSession.builder.appName(\"First Spark App\").master(\"local[*]\").getOrCreate()\n",
        "print(spark.sparkContext.defaultParallelism)"
      ]
    },
    {
      "cell_type": "markdown",
      "metadata": {
        "id": "knryc0NgWMui"
      },
      "source": [
        "## Install gsutil for downloading data"
      ]
    },
    {
      "cell_type": "code",
      "execution_count": 13,
      "metadata": {
        "colab": {
          "base_uri": "https://localhost:8080/"
        },
        "collapsed": true,
        "id": "tLMfQv5JN68M",
        "outputId": "e3125357-4fa7-467e-c9b9-3dc0eb732881"
      },
      "outputs": [
        {
          "output_type": "stream",
          "name": "stdout",
          "text": [
            "Reading package lists... Done\n",
            "Building dependency tree... Done\n",
            "Reading state information... Done\n",
            "The following additional packages will be installed:\n",
            "  python3-setuptools python3-wheel\n",
            "Suggested packages:\n",
            "  python-setuptools-doc\n",
            "The following NEW packages will be installed:\n",
            "  python3-pip python3-setuptools python3-wheel\n",
            "0 upgraded, 3 newly installed, 0 to remove and 49 not upgraded.\n",
            "Need to get 1,677 kB of archives.\n",
            "After this operation, 8,968 kB of additional disk space will be used.\n",
            "Get:1 http://archive.ubuntu.com/ubuntu jammy-updates/main amd64 python3-setuptools all 59.6.0-1.2ubuntu0.22.04.2 [340 kB]\n",
            "Get:2 http://archive.ubuntu.com/ubuntu jammy-updates/universe amd64 python3-wheel all 0.37.1-2ubuntu0.22.04.1 [32.0 kB]\n",
            "Get:3 http://archive.ubuntu.com/ubuntu jammy-updates/universe amd64 python3-pip all 22.0.2+dfsg-1ubuntu0.5 [1,306 kB]\n",
            "Fetched 1,677 kB in 1s (1,360 kB/s)\n",
            "Selecting previously unselected package python3-setuptools.\n",
            "(Reading database ... 123981 files and directories currently installed.)\n",
            "Preparing to unpack .../python3-setuptools_59.6.0-1.2ubuntu0.22.04.2_all.deb ...\n",
            "Unpacking python3-setuptools (59.6.0-1.2ubuntu0.22.04.2) ...\n",
            "Selecting previously unselected package python3-wheel.\n",
            "Preparing to unpack .../python3-wheel_0.37.1-2ubuntu0.22.04.1_all.deb ...\n",
            "Unpacking python3-wheel (0.37.1-2ubuntu0.22.04.1) ...\n",
            "Selecting previously unselected package python3-pip.\n",
            "Preparing to unpack .../python3-pip_22.0.2+dfsg-1ubuntu0.5_all.deb ...\n",
            "Unpacking python3-pip (22.0.2+dfsg-1ubuntu0.5) ...\n",
            "Setting up python3-setuptools (59.6.0-1.2ubuntu0.22.04.2) ...\n",
            "Setting up python3-wheel (0.37.1-2ubuntu0.22.04.1) ...\n",
            "Setting up python3-pip (22.0.2+dfsg-1ubuntu0.5) ...\n",
            "Processing triggers for man-db (2.10.2-1) ...\n",
            "\u001b[2K     \u001b[90m━━━━━━━━━━━━━━━━━━━━━━━━━━━━━━━━━━━━━━━━\u001b[0m \u001b[32m3.0/3.0 MB\u001b[0m \u001b[31m30.2 MB/s\u001b[0m eta \u001b[36m0:00:00\u001b[0m\n",
            "\u001b[?25h  Preparing metadata (setup.py) ... \u001b[?25l\u001b[?25hdone\n",
            "\u001b[2K     \u001b[90m━━━━━━━━━━━━━━━━━━━━━━━━━━━━━━━━━━━━━━━━\u001b[0m \u001b[32m89.7/89.7 kB\u001b[0m \u001b[31m5.7 MB/s\u001b[0m eta \u001b[36m0:00:00\u001b[0m\n",
            "\u001b[?25h  Preparing metadata (setup.py) ... \u001b[?25l\u001b[?25hdone\n",
            "  Preparing metadata (setup.py) ... \u001b[?25l\u001b[?25hdone\n",
            "  Preparing metadata (setup.py) ... \u001b[?25l\u001b[?25hdone\n",
            "  Preparing metadata (setup.py) ... \u001b[?25l\u001b[?25hdone\n",
            "\u001b[2K   \u001b[90m━━━━━━━━━━━━━━━━━━━━━━━━━━━━━━━━━━━━━━━━\u001b[0m \u001b[32m178.1/178.1 kB\u001b[0m \u001b[31m9.1 MB/s\u001b[0m eta \u001b[36m0:00:00\u001b[0m\n",
            "\u001b[2K   \u001b[90m━━━━━━━━━━━━━━━━━━━━━━━━━━━━━━━━━━━━━━━━\u001b[0m \u001b[32m96.6/96.6 kB\u001b[0m \u001b[31m6.3 MB/s\u001b[0m eta \u001b[36m0:00:00\u001b[0m\n",
            "\u001b[2K   \u001b[90m━━━━━━━━━━━━━━━━━━━━━━━━━━━━━━━━━━━━━━━━\u001b[0m \u001b[32m43.6/43.6 kB\u001b[0m \u001b[31m2.6 MB/s\u001b[0m eta \u001b[36m0:00:00\u001b[0m\n",
            "\u001b[2K   \u001b[90m━━━━━━━━━━━━━━━━━━━━━━━━━━━━━━━━━━━━━━━━\u001b[0m \u001b[32m135.7/135.7 kB\u001b[0m \u001b[31m9.4 MB/s\u001b[0m eta \u001b[36m0:00:00\u001b[0m\n",
            "\u001b[2K   \u001b[90m━━━━━━━━━━━━━━━━━━━━━━━━━━━━━━━━━━━━━━━━\u001b[0m \u001b[32m1.4/1.4 MB\u001b[0m \u001b[31m38.3 MB/s\u001b[0m eta \u001b[36m0:00:00\u001b[0m\n",
            "\u001b[?25h  Building wheel for gsutil (setup.py) ... \u001b[?25l\u001b[?25hdone\n",
            "  Building wheel for crcmod (setup.py) ... \u001b[?25l\u001b[?25hdone\n",
            "  Building wheel for gcs-oauth2-boto-plugin (setup.py) ... \u001b[?25l\u001b[?25hdone\n",
            "  Building wheel for retry_decorator (setup.py) ... \u001b[?25l\u001b[?25hdone\n",
            "  Building wheel for pyu2f (setup.py) ... \u001b[?25l\u001b[?25hdone\n",
            "\u001b[31mERROR: pip's dependency resolver does not currently take into account all the packages that are installed. This behaviour is the source of the following dependency conflicts.\n",
            "google-cloud-storage 2.19.0 requires google-auth<3.0dev,>=2.26.1, but you have google-auth 2.17.0 which is incompatible.\n",
            "google-colab 1.0.0 requires google-auth==2.27.0, but you have google-auth 2.17.0 which is incompatible.\u001b[0m\u001b[31m\n",
            "\u001b[0m"
          ]
        }
      ],
      "source": [
        "# Install gsutil for accessing Google Cloud Storage\n",
        "!apt-get install -y python3-pip\n",
        "!pip install -q gsutil\n"
      ]
    },
    {
      "cell_type": "code",
      "execution_count": 14,
      "metadata": {
        "collapsed": true,
        "id": "djiXSOmxN8mr",
        "colab": {
          "base_uri": "https://localhost:8080/"
        },
        "outputId": "c0ebab5a-afcb-4863-c788-702832513434"
      },
      "outputs": [
        {
          "output_type": "stream",
          "name": "stdout",
          "text": [
            "Go to the following link in your browser, and complete the sign-in prompts:\n",
            "\n",
            "    https://accounts.google.com/o/oauth2/auth?response_type=code&client_id=32555940559.apps.googleusercontent.com&redirect_uri=https%3A%2F%2Fsdk.cloud.google.com%2Fauthcode.html&scope=openid+https%3A%2F%2Fwww.googleapis.com%2Fauth%2Fuserinfo.email+https%3A%2F%2Fwww.googleapis.com%2Fauth%2Fcloud-platform+https%3A%2F%2Fwww.googleapis.com%2Fauth%2Fappengine.admin+https%3A%2F%2Fwww.googleapis.com%2Fauth%2Fsqlservice.login+https%3A%2F%2Fwww.googleapis.com%2Fauth%2Fcompute+https%3A%2F%2Fwww.googleapis.com%2Fauth%2Faccounts.reauth&state=F17ZjTQJpdDUdfKo7HXNyQldxh9AaJ&prompt=consent&token_usage=remote&access_type=offline&code_challenge=Ujxw00oTRpTT-guMkaJCM55MVgpDEeXpWXE4YmzsVec&code_challenge_method=S256\n",
            "\n",
            "Once finished, enter the verification code provided in your browser: 4/0AanRRrs6rtX7SJZbBpDRR38UAo5Q6jJsmB8i1lkqcy44HKvNLjLt545FeMBt-ecGI1l-oQ\n",
            "\n",
            "You are now logged in as [shehazimanar@gmail.com].\n",
            "Your current project is [None].  You can change this setting by running:\n",
            "  $ gcloud config set project PROJECT_ID\n"
          ]
        }
      ],
      "source": [
        "# Authenticate to Google Cloud\n",
        "!gcloud auth login"
      ]
    },
    {
      "cell_type": "code",
      "execution_count": 15,
      "metadata": {
        "collapsed": true,
        "id": "4MnRDfhDOABd",
        "colab": {
          "base_uri": "https://localhost:8080/"
        },
        "outputId": "1b89cc49-53be-415d-84cf-f2bc5a1b88e6"
      },
      "outputs": [
        {
          "output_type": "execute_result",
          "data": {
            "text/plain": [
              "['gs://clusterdata-2011-2/MD5SUM',\n",
              " 'gs://clusterdata-2011-2/README',\n",
              " 'gs://clusterdata-2011-2/SHA1SUM',\n",
              " 'gs://clusterdata-2011-2/SHA256SUM',\n",
              " 'gs://clusterdata-2011-2/schema.csv',\n",
              " 'gs://clusterdata-2011-2/job_events/',\n",
              " 'gs://clusterdata-2011-2/machine_attributes/',\n",
              " 'gs://clusterdata-2011-2/machine_events/',\n",
              " 'gs://clusterdata-2011-2/task_constraints/',\n",
              " 'gs://clusterdata-2011-2/task_events/',\n",
              " 'gs://clusterdata-2011-2/task_usage/']"
            ]
          },
          "metadata": {},
          "execution_count": 15
        }
      ],
      "source": [
        "# List dataset files in Google Cloud Storage\n",
        "!!gsutil ls gs://clusterdata-2011-2/"
      ]
    },
    {
      "cell_type": "code",
      "execution_count": 16,
      "metadata": {
        "collapsed": true,
        "id": "zcer2nilODnJ",
        "colab": {
          "base_uri": "https://localhost:8080/"
        },
        "outputId": "f46f810a-5aeb-4811-a3aa-2f7b9fda70e9"
      },
      "outputs": [
        {
          "output_type": "stream",
          "name": "stdout",
          "text": [
            "Copying gs://clusterdata-2011-2/machine_events/part-00000-of-00001.csv.gz...\n",
            "/ [0 files][    0.0 B/339.1 KiB]                                                \r/ [1 files][339.1 KiB/339.1 KiB]                                                \r\n",
            "Operation completed over 1 objects/339.1 KiB.                                    \n"
          ]
        }
      ],
      "source": [
        "# Download a sample file and schema\n",
        "!gsutil cp gs://clusterdata-2011-2/machine_events/part-00000-of-00001.csv.gz ./"
      ]
    },
    {
      "cell_type": "code",
      "execution_count": 17,
      "metadata": {
        "id": "BODGBcu5OZmt",
        "collapsed": true
      },
      "outputs": [],
      "source": [
        "!gunzip part-00000-of-00001.csv.gz"
      ]
    },
    {
      "cell_type": "code",
      "execution_count": 18,
      "metadata": {
        "id": "rQGltzlxhT4S",
        "colab": {
          "base_uri": "https://localhost:8080/"
        },
        "outputId": "c32e14d7-ea07-49ee-bac1-dc6209882644",
        "collapsed": true
      },
      "outputs": [
        {
          "output_type": "stream",
          "name": "stdout",
          "text": [
            "Copying gs://clusterdata-2011-2/schema.csv...\n",
            "/ [0 files][    0.0 B/  3.9 KiB]                                                \r/ [1 files][  3.9 KiB/  3.9 KiB]                                                \r\n",
            "Operation completed over 1 objects/3.9 KiB.                                      \n"
          ]
        }
      ],
      "source": [
        "!gsutil cp gs://clusterdata-2011-2/schema.csv ./"
      ]
    },
    {
      "cell_type": "code",
      "execution_count": 19,
      "metadata": {
        "id": "RsgdUB5PhNXw",
        "colab": {
          "base_uri": "https://localhost:8080/"
        },
        "outputId": "3103549e-715b-45d1-9612-196c77a1efc2",
        "collapsed": true
      },
      "outputs": [
        {
          "output_type": "stream",
          "name": "stdout",
          "text": [
            "                                     file pattern  field number  \\\n",
            "0           job_events/part-?????-of-?????.csv.gz             1   \n",
            "1           job_events/part-?????-of-?????.csv.gz             2   \n",
            "2           job_events/part-?????-of-?????.csv.gz             3   \n",
            "3           job_events/part-?????-of-?????.csv.gz             4   \n",
            "4           job_events/part-?????-of-?????.csv.gz             5   \n",
            "5           job_events/part-?????-of-?????.csv.gz             6   \n",
            "6           job_events/part-?????-of-?????.csv.gz             7   \n",
            "7           job_events/part-?????-of-?????.csv.gz             8   \n",
            "8          task_events/part-?????-of-?????.csv.gz             1   \n",
            "9          task_events/part-?????-of-?????.csv.gz             2   \n",
            "10         task_events/part-?????-of-?????.csv.gz             3   \n",
            "11         task_events/part-?????-of-?????.csv.gz             4   \n",
            "12         task_events/part-?????-of-?????.csv.gz             5   \n",
            "13         task_events/part-?????-of-?????.csv.gz             6   \n",
            "14         task_events/part-?????-of-?????.csv.gz             7   \n",
            "15         task_events/part-?????-of-?????.csv.gz             8   \n",
            "16         task_events/part-?????-of-?????.csv.gz             9   \n",
            "17         task_events/part-?????-of-?????.csv.gz            10   \n",
            "18         task_events/part-?????-of-?????.csv.gz            11   \n",
            "19         task_events/part-?????-of-?????.csv.gz            12   \n",
            "20         task_events/part-?????-of-?????.csv.gz            13   \n",
            "21      machine_events/part-00000-of-00001.csv.gz             1   \n",
            "22      machine_events/part-00000-of-00001.csv.gz             2   \n",
            "23      machine_events/part-00000-of-00001.csv.gz             3   \n",
            "24      machine_events/part-00000-of-00001.csv.gz             4   \n",
            "25      machine_events/part-00000-of-00001.csv.gz             5   \n",
            "26      machine_events/part-00000-of-00001.csv.gz             6   \n",
            "27  machine_attributes/part-00000-of-00001.csv.gz             1   \n",
            "28  machine_attributes/part-00000-of-00001.csv.gz             2   \n",
            "29  machine_attributes/part-00000-of-00001.csv.gz             3   \n",
            "30  machine_attributes/part-00000-of-00001.csv.gz             4   \n",
            "31  machine_attributes/part-00000-of-00001.csv.gz             5   \n",
            "32    task_constraints/part-?????-of-?????.csv.gz             1   \n",
            "33    task_constraints/part-?????-of-?????.csv.gz             2   \n",
            "34    task_constraints/part-?????-of-?????.csv.gz             3   \n",
            "35    task_constraints/part-?????-of-?????.csv.gz             4   \n",
            "36    task_constraints/part-?????-of-?????.csv.gz             5   \n",
            "37    task_constraints/part-?????-of-?????.csv.gz             6   \n",
            "38          task_usage/part-?????-of-?????.csv.gz             1   \n",
            "39          task_usage/part-?????-of-?????.csv.gz             2   \n",
            "40          task_usage/part-?????-of-?????.csv.gz             3   \n",
            "41          task_usage/part-?????-of-?????.csv.gz             4   \n",
            "42          task_usage/part-?????-of-?????.csv.gz             5   \n",
            "43          task_usage/part-?????-of-?????.csv.gz             6   \n",
            "44          task_usage/part-?????-of-?????.csv.gz             7   \n",
            "45          task_usage/part-?????-of-?????.csv.gz             8   \n",
            "46          task_usage/part-?????-of-?????.csv.gz             9   \n",
            "47          task_usage/part-?????-of-?????.csv.gz            10   \n",
            "48          task_usage/part-?????-of-?????.csv.gz            11   \n",
            "49          task_usage/part-?????-of-?????.csv.gz            12   \n",
            "50          task_usage/part-?????-of-?????.csv.gz            13   \n",
            "51          task_usage/part-?????-of-?????.csv.gz            14   \n",
            "52          task_usage/part-?????-of-?????.csv.gz            15   \n",
            "53          task_usage/part-?????-of-?????.csv.gz            16   \n",
            "54          task_usage/part-?????-of-?????.csv.gz            17   \n",
            "55          task_usage/part-?????-of-?????.csv.gz            18   \n",
            "56          task_usage/part-?????-of-?????.csv.gz            19   \n",
            "57          task_usage/part-?????-of-?????.csv.gz            20   \n",
            "\n",
            "                            content                  format mandatory  \n",
            "0                              time                 INTEGER       YES  \n",
            "1                      missing info                 INTEGER        NO  \n",
            "2                            job ID                 INTEGER       YES  \n",
            "3                        event type                 INTEGER       YES  \n",
            "4                              user             STRING_HASH        NO  \n",
            "5                  scheduling class                 INTEGER        NO  \n",
            "6                          job name             STRING_HASH        NO  \n",
            "7                  logical job name             STRING_HASH        NO  \n",
            "8                              time                 INTEGER       YES  \n",
            "9                      missing info                 INTEGER        NO  \n",
            "10                           job ID                 INTEGER       YES  \n",
            "11                       task index                 INTEGER       YES  \n",
            "12                       machine ID                 INTEGER        NO  \n",
            "13                       event type                 INTEGER       YES  \n",
            "14                             user             STRING_HASH        NO  \n",
            "15                 scheduling class                 INTEGER        NO  \n",
            "16                         priority                 INTEGER       YES  \n",
            "17                      CPU request                   FLOAT        NO  \n",
            "18                   memory request                   FLOAT        NO  \n",
            "19               disk space request                   FLOAT        NO  \n",
            "20   different machines restriction                 BOOLEAN        NO  \n",
            "21                             time                 INTEGER       YES  \n",
            "22                       machine ID                 INTEGER       YES  \n",
            "23                       event type                 INTEGER       YES  \n",
            "24                      platform ID             STRING_HASH        NO  \n",
            "25                             CPUs                   FLOAT        NO  \n",
            "26                           Memory                   FLOAT        NO  \n",
            "27                             time                 INTEGER       YES  \n",
            "28                       machine ID                 INTEGER       YES  \n",
            "29                   attribute name             STRING_HASH       YES  \n",
            "30                  attribute value  STRING_HASH_OR_INTEGER        NO  \n",
            "31                attribute deleted                 BOOLEAN       YES  \n",
            "32                             time                 INTEGER       YES  \n",
            "33                           job ID                 INTEGER       YES  \n",
            "34                       task index                 INTEGER       YES  \n",
            "35              comparison operator                 INTEGER       YES  \n",
            "36                   attribute name             STRING_HASH       YES  \n",
            "37                  attribute value  STRING_HASH_OR_INTEGER        NO  \n",
            "38                       start time                 INTEGER       YES  \n",
            "39                         end time                 INTEGER       YES  \n",
            "40                           job ID                 INTEGER       YES  \n",
            "41                       task index                 INTEGER       YES  \n",
            "42                       machine ID                 INTEGER       YES  \n",
            "43                         CPU rate                   FLOAT        NO  \n",
            "44           canonical memory usage                   FLOAT        NO  \n",
            "45            assigned memory usage                   FLOAT        NO  \n",
            "46              unmapped page cache                   FLOAT        NO  \n",
            "47                 total page cache                   FLOAT        NO  \n",
            "48             maximum memory usage                   FLOAT        NO  \n",
            "49                    disk I/O time                   FLOAT        NO  \n",
            "50           local disk space usage                   FLOAT        NO  \n",
            "51                 maximum CPU rate                   FLOAT        NO  \n",
            "52             maximum disk IO time                   FLOAT        NO  \n",
            "53           cycles per instruction                   FLOAT        NO  \n",
            "54  memory accesses per instruction                   FLOAT        NO  \n",
            "55                   sample portion                   FLOAT        NO  \n",
            "56                 aggregation type                 BOOLEAN        NO  \n",
            "57                sampled CPU usage                   FLOAT        NO  \n"
          ]
        }
      ],
      "source": [
        "import pandas as pd\n",
        "\n",
        "schema_df = pd.read_csv(\"schema.csv\")\n",
        "print(schema_df)"
      ]
    },
    {
      "cell_type": "code",
      "execution_count": 20,
      "metadata": {
        "id": "yftcY0TKQPUf",
        "colab": {
          "base_uri": "https://localhost:8080/"
        },
        "outputId": "27481a28-0e61-45f3-e9aa-c4b729dcc604"
      },
      "outputs": [
        {
          "output_type": "stream",
          "name": "stdout",
          "text": [
            "root\n",
            " |-- time: long (nullable = true)\n",
            " |-- machine_id: long (nullable = true)\n",
            " |-- event_type: integer (nullable = true)\n",
            " |-- platform_id: string (nullable = true)\n",
            " |-- cpu_capacity: double (nullable = true)\n",
            " |-- memory_capacity: double (nullable = true)\n",
            "\n",
            " Machine Events Table\n",
            "+----+----------+----------+--------------------+------------+---------------+\n",
            "|time|machine_id|event_type|         platform_id|cpu_capacity|memory_capacity|\n",
            "+----+----------+----------+--------------------+------------+---------------+\n",
            "|   0|         6|         0|HofLGzk1Or/8Ildj2...|         0.5|         0.2493|\n",
            "|   0|         7|         0|HofLGzk1Or/8Ildj2...|         0.5|         0.2493|\n",
            "|   0|        10|         0|HofLGzk1Or/8Ildj2...|         0.5|         0.2493|\n",
            "|   0|        13|         0|HofLGzk1Or/8Ildj2...|         0.5|         0.2493|\n",
            "|   0|        14|         0|HofLGzk1Or/8Ildj2...|         0.5|         0.2493|\n",
            "+----+----------+----------+--------------------+------------+---------------+\n",
            "only showing top 5 rows\n",
            "\n"
          ]
        }
      ],
      "source": [
        "# Load CSV file into a Spark DataFrame\n",
        "df = spark.read.csv(\"part-00000-of-00001.csv\", header=True, inferSchema=True)\n",
        "# Added column names we derived from schema.csv\n",
        "# Renamed the columns using column names derived from the schema\n",
        "df = df.toDF(\"time\", \"machine_id\", \"event_type\", \"platform_id\", \"cpu_capacity\", \"memory_capacity\")\n",
        "\n",
        "df.printSchema()\n",
        "print(\" Machine Events Table\")\n",
        "df.show(5)"
      ]
    },
    {
      "cell_type": "markdown",
      "source": [
        "# Questions and Analyses to be Conducted"
      ],
      "metadata": {
        "id": "v9pkp3H9BNkk"
      }
    },
    {
      "cell_type": "markdown",
      "metadata": {
        "id": "jNdVrGEQhcoM"
      },
      "source": [
        "***Question 1:***   \n",
        "What is the distribution of the machines according to their CPU capacity?"
      ]
    },
    {
      "cell_type": "code",
      "execution_count": 21,
      "metadata": {
        "id": "-ugM8gGqcJO5"
      },
      "outputs": [],
      "source": [
        "#Remove values with Null cpu capacity\n",
        "df = df.filter(df[\"cpu_capacity\"].isNotNull())"
      ]
    },
    {
      "cell_type": "code",
      "execution_count": 22,
      "metadata": {
        "id": "kgfo6jzmcUXX",
        "colab": {
          "base_uri": "https://localhost:8080/"
        },
        "outputId": "52be54c1-7539-4ccf-b999-0fcba3ecc13b"
      },
      "outputs": [
        {
          "output_type": "stream",
          "name": "stdout",
          "text": [
            "+------------+-----+\n",
            "|cpu_capacity|count|\n",
            "+------------+-----+\n",
            "|        0.25|  510|\n",
            "|         0.5|35014|\n",
            "|         1.0| 2223|\n",
            "+------------+-----+\n",
            "\n"
          ]
        }
      ],
      "source": [
        "# Grouping by cpu_capacity\n",
        "cpu_distribution = df.groupBy(\"cpu_capacity\").count().orderBy(\"cpu_capacity\")\n",
        "cpu_distribution.show()\n"
      ]
    },
    {
      "cell_type": "code",
      "execution_count": 23,
      "metadata": {
        "id": "f8-C4glVfqEO",
        "colab": {
          "base_uri": "https://localhost:8080/",
          "height": 581
        },
        "outputId": "75750cfb-4139-45fe-8aef-15e8b0e9f9a0"
      },
      "outputs": [
        {
          "output_type": "display_data",
          "data": {
            "text/plain": [
              "<Figure size 1000x600 with 1 Axes>"
            ],
            "image/png": "[encoded data removed]"
          },
          "metadata": {}
        }
      ],
      "source": [
        "# Visualization\n",
        "cpu_distribution_pd = cpu_distribution.toPandas()\n",
        "\n",
        "import matplotlib.pyplot as plt\n",
        "\n",
        "cpu_distribution_pd.plot(kind=\"bar\", x=\"cpu_capacity\", y=\"count\", figsize=(10, 6))\n",
        "plt.title(\"Distribution of Machines by CPU Capacity\")\n",
        "plt.xlabel(\"CPU Capacity (Normalized)\")\n",
        "plt.ylabel(\"Number of Machines\")\n",
        "for index, value in cpu_distribution_pd.iterrows():\n",
        "    plt.text(index, value[\"count\"], str(value[\"count\"]), ha=\"center\", va=\"bottom\")\n",
        "\n",
        "plt.show()"
      ]
    },
    {
      "cell_type": "markdown",
      "source": [
        "##Extension"
      ],
      "metadata": {
        "id": "ZukNmVMH0UIX"
      }
    },
    {
      "cell_type": "markdown",
      "source": [
        "## Compare Spark with Pandas\n",
        "In this section we take a subset of the data (e.g., first 10,000 rows) and perform the same analysis using Pandas. Then we measure runtime and memory usage for Spark and Pandas. What we notice is that:\n",
        "\n",
        "\n",
        "*   Pandas: Easier for small datasets but slower and memory-intensive for large ones.\n",
        "*  Spark: Handles large-scale data efficiently due to distributed computation."
      ],
      "metadata": {
        "id": "PQhnJWrmGfWX"
      }
    },
    {
      "cell_type": "code",
      "source": [
        "# Convert Spark DataFrame to Pandas\n",
        "pandas_df = df.limit(10000).toPandas()\n",
        "\n",
        "# Group by CPU capacity in Pandas\n",
        "pandas_grouped = pandas_df.groupby(\"cpu_capacity\")[\"machine_id\"].count()\n",
        "print(pandas_grouped)"
      ],
      "metadata": {
        "colab": {
          "base_uri": "https://localhost:8080/"
        },
        "id": "MoGtNp2GGSHt",
        "outputId": "3af486c7-f44d-41d1-b68e-029328d620c2"
      },
      "execution_count": null,
      "outputs": [
        {
          "output_type": "stream",
          "name": "stdout",
          "text": [
            "cpu_capacity\n",
            "0.25      37\n",
            "0.50    9963\n",
            "Name: machine_id, dtype: int64\n"
          ]
        }
      ]
    },
    {
      "cell_type": "code",
      "source": [
        "import time\n",
        "\n",
        "# Measure runtime in Pandas\n",
        "start_time = time.time()\n",
        "pandas_grouped = pandas_df.groupby(\"cpu_capacity\")[\"machine_id\"].count()\n",
        "print(f\"Pandas runtime: {time.time() - start_time:.2f} seconds\")\n",
        "\n",
        "# Use a subset of 10,000 rows for Spark\n",
        "spark_subset = df.limit(10000)\n",
        "\n",
        "# Measure runtime in Spark with the subset\n",
        "start_time = time.time()\n",
        "spark_grouped = spark_subset.groupBy(\"cpu_capacity\").count().collect()\n",
        "print(f\"Spark runtime on subset: {time.time() - start_time:.2f} seconds\")\n",
        "\n"
      ],
      "metadata": {
        "colab": {
          "base_uri": "https://localhost:8080/"
        },
        "id": "GEogWD-gGWcN",
        "outputId": "e654e250-f96d-41c7-9a0c-d003e4434243"
      },
      "execution_count": null,
      "outputs": [
        {
          "output_type": "stream",
          "name": "stdout",
          "text": [
            "Pandas runtime: 0.00 seconds\n",
            "Spark runtime on subset: 0.49 seconds\n"
          ]
        }
      ]
    },
    {
      "cell_type": "markdown",
      "metadata": {
        "id": "DjY2x-G3h5LQ"
      },
      "source": [
        "***Question 2:***\n",
        "\n",
        "What is the percentage of computational power lost due to maintenance (a machine went\n",
        "offline and reconnected later)?"
      ]
    },
    {
      "cell_type": "code",
      "execution_count": null,
      "metadata": {
        "id": "KSLL5jRrdPcG",
        "colab": {
          "base_uri": "https://localhost:8080/"
        },
        "outputId": "f0700b1a-ca39-4960-88d1-4437e4fc8bed"
      },
      "outputs": [
        {
          "output_type": "stream",
          "name": "stdout",
          "text": [
            "Percentage of computational power lost due to maintenance: 24.76%\n"
          ]
        }
      ],
      "source": [
        "from pyspark.sql.functions import col, sum as spark_sum\n",
        "\n",
        "# Filter rows to exclude removed machines (event_type = 1)\n",
        "valid_machines = df.filter((col(\"event_type\") == 0) | (col(\"event_type\") == 2))\n",
        "\n",
        "# Calculate total CPU capacity (excluding removed machines)\n",
        "total_cpu_capacity = valid_machines.agg(spark_sum(\"cpu_capacity\").alias(\"total_cpu\")).collect()[0][\"total_cpu\"]\n",
        "\n",
        "# Filter rows where machines went offline (event_type indicates \"offline\")\n",
        "offline_machines = df.filter(col(\"event_type\") == 2)\n",
        "\n",
        "# Sum CPU capacity of offline machines\n",
        "offline_cpu_capacity = offline_machines.agg(spark_sum(\"cpu_capacity\").alias(\"offline_cpu\")).collect()[0][\"offline_cpu\"]\n",
        "\n",
        "# Calculate the percentage of computational power lost\n",
        "percentage_lost = (offline_cpu_capacity / total_cpu_capacity) * 100\n",
        "print(f\"Percentage of computational power lost due to maintenance: {percentage_lost:.2f}%\")\n"
      ]
    },
    {
      "cell_type": "code",
      "execution_count": null,
      "metadata": {
        "id": "lMiiFNSsihnt",
        "colab": {
          "base_uri": "https://localhost:8080/",
          "height": 521
        },
        "outputId": "7aaa26e1-8318-4581-cdfc-c3233f738a6b"
      },
      "outputs": [
        {
          "output_type": "display_data",
          "data": {
            "text/plain": [
              "<Figure size 800x600 with 1 Axes>"
            ],
            "image/png": "[encoded data removed]"
          },
          "metadata": {}
        }
      ],
      "source": [
        "# Plot the result\n",
        "import matplotlib.pyplot as plt\n",
        "\n",
        "data = {\"Offline\": offline_cpu_capacity, \"Available\": total_cpu_capacity - offline_cpu_capacity}\n",
        "labels = data.keys()\n",
        "sizes = data.values()\n",
        "\n",
        "plt.figure(figsize=(8, 6))\n",
        "plt.pie(sizes, labels=labels, autopct='%1.1f%%', startangle=140, colors=['red', 'blue'])\n",
        "plt.title(\"Percentage of Computational Power Lost Due to Maintenance\")\n",
        "plt.show()"
      ]
    },
    {
      "cell_type": "markdown",
      "metadata": {
        "id": "9HycwEokj4wr"
      },
      "source": [
        "**Question 3:**\n",
        "\n",
        "What is the distribution of the number of jobs/tasks per scheduling class?"
      ]
    },
    {
      "cell_type": "markdown",
      "source": [
        "For Jobs:"
      ],
      "metadata": {
        "id": "aAAXeOZFdQ1F"
      }
    },
    {
      "cell_type": "code",
      "source": [
        "!gsutil cp gs://clusterdata-2011-2/job_events/part-00049-of-00500.csv.gz ./\n",
        "!gunzip part-00049-of-00500.csv.gz"
      ],
      "metadata": {
        "colab": {
          "base_uri": "https://localhost:8080/"
        },
        "id": "PPv9cdKlN6t9",
        "outputId": "1c41372a-3379-46f2-c62a-fe00bfe7a7fb",
        "collapsed": true
      },
      "execution_count": null,
      "outputs": [
        {
          "output_type": "stream",
          "name": "stdout",
          "text": [
            "Copying gs://clusterdata-2011-2/job_events/part-00049-of-00500.csv.gz...\n",
            "/ [1 files][217.2 KiB/217.2 KiB]                                                \n",
            "Operation completed over 1 objects/217.2 KiB.                                    \n"
          ]
        }
      ]
    },
    {
      "cell_type": "code",
      "source": [
        "# Load the job_events dataset\n",
        "df_jobs = spark.read.csv(\"part-00049-of-00500.csv\", header=False, inferSchema=True)"
      ],
      "metadata": {
        "id": "koEoNbZYOZPF"
      },
      "execution_count": null,
      "outputs": []
    },
    {
      "cell_type": "code",
      "source": [
        "# # Assign proper column names based on schema\n",
        "job_columns = [\n",
        "    \"time\", \"missing_info\", \"job_id\", \"event_type\", \"user\",\n",
        "    \"scheduling_class\", \"job_name\", \"logical_job_name\"\n",
        "]\n",
        "df_jobs = df_jobs.toDF(*job_columns)\n",
        "\n",
        "df_jobs.printSchema()\n",
        "print(\" Job Event Table:\")\n",
        "df_jobs.show(5)"
      ],
      "metadata": {
        "colab": {
          "base_uri": "https://localhost:8080/"
        },
        "id": "6nInrXYNOrSQ",
        "outputId": "d53e232c-a564-4abe-aa09-673fb22bd5a0"
      },
      "execution_count": null,
      "outputs": [
        {
          "output_type": "stream",
          "name": "stdout",
          "text": [
            "root\n",
            " |-- time: long (nullable = true)\n",
            " |-- missing_info: string (nullable = true)\n",
            " |-- job_id: long (nullable = true)\n",
            " |-- event_type: integer (nullable = true)\n",
            " |-- user: string (nullable = true)\n",
            " |-- scheduling_class: integer (nullable = true)\n",
            " |-- job_name: string (nullable = true)\n",
            " |-- logical_job_name: string (nullable = true)\n",
            "\n",
            " Job Event Table:\n",
            "+------------+------------+----------+----------+--------------------+----------------+--------------------+--------------------+\n",
            "|        time|missing_info|    job_id|event_type|                user|scheduling_class|            job_name|    logical_job_name|\n",
            "+------------+------------+----------+----------+--------------------+----------------+--------------------+--------------------+\n",
            "|246152710194|        null|6280409742|         0|P/b25hVu6/7A0BJOL...|               1|aHSQqsS74DpHUfJe4...|om16WKN2OBzTA8mmO...|\n",
            "|246152712720|        null|6280409766|         0|P/b25hVu6/7A0BJOL...|               1|XwsaVZfkO3IeWhJxE...|/vNf9QQHQoFmSXBio...|\n",
            "|246152715307|        null|6280409791|         0|P/b25hVu6/7A0BJOL...|               1|oIQNecARaqiroXyGz...|qTwUxjik4WUVUauw0...|\n",
            "|246156921917|        null|6280409742|         1|P/b25hVu6/7A0BJOL...|               1|aHSQqsS74DpHUfJe4...|om16WKN2OBzTA8mmO...|\n",
            "|246156921931|        null|6280409766|         1|P/b25hVu6/7A0BJOL...|               1|XwsaVZfkO3IeWhJxE...|/vNf9QQHQoFmSXBio...|\n",
            "+------------+------------+----------+----------+--------------------+----------------+--------------------+--------------------+\n",
            "only showing top 5 rows\n",
            "\n"
          ]
        }
      ]
    },
    {
      "cell_type": "code",
      "source": [
        "from pyspark.sql.functions import col\n",
        "\n",
        "df_jobs = df_jobs.filter(df_jobs[\"scheduling_class\"].isNotNull())\n",
        "\n",
        "# Group data by scheduling_class and count jobs/tasks\n",
        "scheduling_class_distribution = df_jobs.groupBy(\"scheduling_class\").count().orderBy(\"scheduling_class\")\n",
        "\n",
        "# Show the results\n",
        "scheduling_class_distribution.show()\n",
        "\n",
        "# Convert to Pandas for visualization\n",
        "scheduling_class_distribution_pd = scheduling_class_distribution.toPandas()\n"
      ],
      "metadata": {
        "colab": {
          "base_uri": "https://localhost:8080/"
        },
        "id": "kwBnQWOkOv5v",
        "outputId": "7cd87c7b-f823-459b-899b-2ed1f9db8b88"
      },
      "execution_count": null,
      "outputs": [
        {
          "output_type": "stream",
          "name": "stdout",
          "text": [
            "+----------------+-----+\n",
            "|scheduling_class|count|\n",
            "+----------------+-----+\n",
            "|               0| 1844|\n",
            "|               1| 1733|\n",
            "|               2| 1481|\n",
            "|               3|   31|\n",
            "+----------------+-----+\n",
            "\n"
          ]
        }
      ]
    },
    {
      "cell_type": "code",
      "source": [
        "# Ensure scheduling_class is numeric\n",
        "scheduling_class_distribution_pd[\"scheduling_class\"] = scheduling_class_distribution_pd[\"scheduling_class\"].astype(int)\n",
        "\n",
        "import matplotlib.pyplot as plt\n",
        "\n",
        "plt.figure(figsize=(10, 6))\n",
        "plt.bar(\n",
        "    scheduling_class_distribution_pd[\"scheduling_class\"],\n",
        "    scheduling_class_distribution_pd[\"count\"],\n",
        "    color=\"skyblue\"\n",
        ")\n",
        "plt.title(\"Distribution of Number of Jobs per Scheduling Class\")\n",
        "plt.xlabel(\"Scheduling Class\")\n",
        "plt.ylabel(\"Number of Jobs\")\n",
        "plt.xticks(scheduling_class_distribution_pd[\"scheduling_class\"])\n",
        "plt.show()\n"
      ],
      "metadata": {
        "colab": {
          "base_uri": "https://localhost:8080/",
          "height": 564
        },
        "id": "U3fmuZdXPF0k",
        "outputId": "8e6698bd-1e20-4435-92a6-f58676aeae43"
      },
      "execution_count": null,
      "outputs": [
        {
          "output_type": "display_data",
          "data": {
            "text/plain": [
              "<Figure size 1000x600 with 1 Axes>"
            ],
            "image/png": "[encoded data removed]"
          },
          "metadata": {}
        }
      ]
    },
    {
      "cell_type": "markdown",
      "source": [
        "Since part-00001-of00001.csv did not contain all columns of task_events, we chose a different part to reach the scheduling_class column in task_events"
      ],
      "metadata": {
        "id": "GZEfrO2MfZha"
      }
    },
    {
      "cell_type": "code",
      "source": [
        "!gsutil cp gs://clusterdata-2011-2/task_events/part-00050-of-00500.csv.gz ./\n",
        "!gunzip part-00050-of-00500.csv.gz\n",
        "\n",
        "# Load the file\n",
        "df_tasks = spark.read.csv(\"part-00050-of-00500.csv\", header=False, inferSchema=True)\n",
        "df_tasks.printSchema()"
      ],
      "metadata": {
        "colab": {
          "base_uri": "https://localhost:8080/"
        },
        "id": "mu6du_g5fE3S",
        "outputId": "db424ea3-c387-47c8-e962-66145584ede3",
        "collapsed": true
      },
      "execution_count": null,
      "outputs": [
        {
          "output_type": "stream",
          "name": "stdout",
          "text": [
            "Copying gs://clusterdata-2011-2/task_events/part-00050-of-00500.csv.gz...\n",
            "/ [0 files][    0.0 B/  5.5 MiB]                                                \r/ [1 files][  5.5 MiB/  5.5 MiB]                                                \r\n",
            "Operation completed over 1 objects/5.5 MiB.                                      \n",
            "gzip: part-00050-of-00500.csv already exists; do you wish to overwrite (y or n)? ^C\n",
            "root\n",
            " |-- _c0: long (nullable = true)\n",
            " |-- _c1: string (nullable = true)\n",
            " |-- _c2: long (nullable = true)\n",
            " |-- _c3: integer (nullable = true)\n",
            " |-- _c4: long (nullable = true)\n",
            " |-- _c5: integer (nullable = true)\n",
            " |-- _c6: string (nullable = true)\n",
            " |-- _c7: integer (nullable = true)\n",
            " |-- _c8: integer (nullable = true)\n",
            " |-- _c9: double (nullable = true)\n",
            " |-- _c10: double (nullable = true)\n",
            " |-- _c11: double (nullable = true)\n",
            " |-- _c12: integer (nullable = true)\n",
            "\n"
          ]
        }
      ]
    },
    {
      "cell_type": "code",
      "source": [
        "task_columns = [\n",
        "    \"time\", \"missing_info\", \"job_id\", \"task_index\", \"machine_id\", \"event_type\",\n",
        "    \"user\", \"scheduling_class\", \"priority\", \"cpu_request\", \"memory_request\",\n",
        "    \"disk_request\", \"different_machine_restriction\"\n",
        "]\n",
        "\n",
        "df_tasks = df_tasks.toDF(*task_columns)\n",
        "df_tasks.printSchema()\n"
      ],
      "metadata": {
        "colab": {
          "base_uri": "https://localhost:8080/"
        },
        "id": "TMsWzMNWfrx6",
        "outputId": "d4a26074-bee5-40ae-b401-aee521fde67c",
        "collapsed": true
      },
      "execution_count": null,
      "outputs": [
        {
          "output_type": "stream",
          "name": "stdout",
          "text": [
            "root\n",
            " |-- time: long (nullable = true)\n",
            " |-- missing_info: string (nullable = true)\n",
            " |-- job_id: long (nullable = true)\n",
            " |-- task_index: integer (nullable = true)\n",
            " |-- machine_id: long (nullable = true)\n",
            " |-- event_type: integer (nullable = true)\n",
            " |-- user: string (nullable = true)\n",
            " |-- scheduling_class: integer (nullable = true)\n",
            " |-- priority: integer (nullable = true)\n",
            " |-- cpu_request: double (nullable = true)\n",
            " |-- memory_request: double (nullable = true)\n",
            " |-- disk_request: double (nullable = true)\n",
            " |-- different_machine_restriction: integer (nullable = true)\n",
            "\n"
          ]
        }
      ]
    },
    {
      "cell_type": "code",
      "source": [
        "scheduling_class_distribution = df_tasks.groupBy(\"scheduling_class\").count().orderBy(\"scheduling_class\")\n",
        "scheduling_class_distribution.show()"
      ],
      "metadata": {
        "colab": {
          "base_uri": "https://localhost:8080/"
        },
        "id": "_3oJ4z0ffvY5",
        "outputId": "3d1ad7f5-ce4a-4c26-d884-2ecfff788440"
      },
      "execution_count": null,
      "outputs": [
        {
          "output_type": "stream",
          "name": "stdout",
          "text": [
            "+----------------+------+\n",
            "|scheduling_class| count|\n",
            "+----------------+------+\n",
            "|               0|185504|\n",
            "|               1|274403|\n",
            "|               2| 21221|\n",
            "|               3|  4757|\n",
            "+----------------+------+\n",
            "\n"
          ]
        }
      ]
    },
    {
      "cell_type": "code",
      "source": [
        "import matplotlib.pyplot as plt\n",
        "\n",
        "# Convert to Pandas\n",
        "scheduling_class_pd = scheduling_class_distribution.toPandas()\n",
        "\n",
        "# Plot\n",
        "scheduling_class_pd.plot(\n",
        "    kind=\"bar\", x=\"scheduling_class\", y=\"count\", legend=False, figsize=(10, 6)\n",
        ")\n",
        "plt.title(\"Distribution of Tasks by Scheduling Class\")\n",
        "plt.xlabel(\"Scheduling Class\")\n",
        "plt.ylabel(\"Number of Tasks\")\n",
        "plt.xticks(rotation=0)\n",
        "plt.show()\n",
        "\n"
      ],
      "metadata": {
        "colab": {
          "base_uri": "https://localhost:8080/",
          "height": 564
        },
        "id": "HKUnoLuZd206",
        "outputId": "d838cfbb-70d7-401d-a156-d7476c25788a"
      },
      "execution_count": null,
      "outputs": [
        {
          "output_type": "display_data",
          "data": {
            "text/plain": [
              "<Figure size 1000x600 with 1 Axes>"
            ],
            "image/png": "[encoded data removed]"
          },
          "metadata": {}
        }
      ]
    },
    {
      "cell_type": "code",
      "source": [
        "import matplotlib.pyplot as plt\n",
        "import numpy as np\n",
        "\n",
        "# Convert both distributions to Pandas DataFrames\n",
        "jobs_pd = scheduling_class_distribution_pd  # From jobs\n",
        "tasks_pd = scheduling_class_pd  # From tasks\n",
        "\n",
        "# Align data for scheduling classes present in both distributions\n",
        "combined_df = jobs_pd.merge(\n",
        "    tasks_pd, on=\"scheduling_class\", suffixes=(\"_jobs\", \"_tasks\")\n",
        ")\n",
        "\n",
        "# Extract data\n",
        "x = combined_df[\"scheduling_class\"]\n",
        "jobs = combined_df[\"count_jobs\"]\n",
        "tasks = combined_df[\"count_tasks\"]\n",
        "\n",
        "# Define positions for grouped bars\n",
        "x_pos = np.arange(len(x))\n",
        "width = 0.4\n",
        "\n",
        "# Plot grouped bars\n",
        "plt.figure(figsize=(10, 6))\n",
        "plt.bar(x_pos - width/2, jobs, width, label=\"Jobs\", alpha=0.7)\n",
        "plt.bar(x_pos + width/2, tasks, width, label=\"Tasks\", alpha=0.7)\n",
        "\n",
        "# Add labels, legend, and title\n",
        "plt.xlabel(\"Scheduling Class\")\n",
        "plt.ylabel(\"Count\")\n",
        "plt.title(\"Distribution of Jobs and Tasks by Scheduling Class\")\n",
        "plt.xticks(x_pos, x)\n",
        "plt.legend()\n",
        "\n",
        "# Show the plot\n",
        "plt.tight_layout()\n",
        "plt.show()\n"
      ],
      "metadata": {
        "colab": {
          "base_uri": "https://localhost:8080/",
          "height": 607
        },
        "id": "BVtVtGqVhqj0",
        "outputId": "bb92c267-a36c-4cb4-e457-565ddd960732"
      },
      "execution_count": null,
      "outputs": [
        {
          "output_type": "display_data",
          "data": {
            "text/plain": [
              "<Figure size 1000x600 with 1 Axes>"
            ],
            "image/png": "[encoded data removed]"
          },
          "metadata": {}
        }
      ]
    },
    {
      "cell_type": "markdown",
      "source": [
        "**Question 4**\n",
        "\n",
        "Do tasks with a low scheduling class have a higher probability of being evicted?"
      ],
      "metadata": {
        "id": "Kz9rmGYqiF7b"
      }
    },
    {
      "cell_type": "code",
      "source": [
        "# Evicted tasks are event type 2, so we filter them first\n",
        "evicted_tasks = df_tasks.filter(df_tasks[\"event_type\"] == 2)"
      ],
      "metadata": {
        "id": "rh2grXBjiWRB"
      },
      "execution_count": null,
      "outputs": []
    },
    {
      "cell_type": "code",
      "source": [
        "total_tasks = df_tasks.groupBy(\"scheduling_class\").count().withColumnRenamed(\"count\", \"total_count\")\n",
        "total_tasks.show()"
      ],
      "metadata": {
        "colab": {
          "base_uri": "https://localhost:8080/"
        },
        "id": "f3_SUiJkiXlH",
        "outputId": "55404eea-6aca-4c92-f20c-7bf1e2cafd38"
      },
      "execution_count": null,
      "outputs": [
        {
          "output_type": "stream",
          "name": "stdout",
          "text": [
            "+----------------+-----------+\n",
            "|scheduling_class|total_count|\n",
            "+----------------+-----------+\n",
            "|               1|     274403|\n",
            "|               3|       4757|\n",
            "|               2|      21221|\n",
            "|               0|     185504|\n",
            "+----------------+-----------+\n",
            "\n"
          ]
        }
      ]
    },
    {
      "cell_type": "code",
      "source": [
        "evicted_count = evicted_tasks.groupBy(\"scheduling_class\").count().withColumnRenamed(\"count\", \"evicted_count\")\n",
        "evicted_count.show()"
      ],
      "metadata": {
        "colab": {
          "base_uri": "https://localhost:8080/"
        },
        "id": "OnClYTaDjUW1",
        "outputId": "5d087911-bc26-44cb-dbf4-f50735ddacce"
      },
      "execution_count": null,
      "outputs": [
        {
          "output_type": "stream",
          "name": "stdout",
          "text": [
            "+----------------+-------------+\n",
            "|scheduling_class|evicted_count|\n",
            "+----------------+-------------+\n",
            "|               1|         5814|\n",
            "|               3|          132|\n",
            "|               2|         1255|\n",
            "|               0|        12259|\n",
            "+----------------+-------------+\n",
            "\n"
          ]
        }
      ]
    },
    {
      "cell_type": "code",
      "source": [
        "from pyspark.sql.functions import col\n",
        "\n",
        "# Join total tasks and evicted tasks\n",
        "eviction_rate_df = total_tasks.join(evicted_count, \"scheduling_class\", \"left_outer\")\n",
        "\n",
        "# Calculate eviction rate\n",
        "eviction_rate_df = eviction_rate_df.withColumn(\n",
        "    \"eviction_rate\", col(\"evicted_count\") / col(\"total_count\")\n",
        ")\n",
        "eviction_rate_df.show()"
      ],
      "metadata": {
        "colab": {
          "base_uri": "https://localhost:8080/"
        },
        "id": "JJIf-UkpjX7e",
        "outputId": "04848a9a-13cd-428c-eaf2-9880ebc4e00d"
      },
      "execution_count": null,
      "outputs": [
        {
          "output_type": "stream",
          "name": "stdout",
          "text": [
            "+----------------+-----------+-------------+--------------------+\n",
            "|scheduling_class|total_count|evicted_count|       eviction_rate|\n",
            "+----------------+-----------+-------------+--------------------+\n",
            "|               1|     274403|         5814|0.021187815002022572|\n",
            "|               3|       4757|          132|0.027748581038469625|\n",
            "|               2|      21221|         1255| 0.05913953159606051|\n",
            "|               0|     185504|        12259| 0.06608482835949629|\n",
            "+----------------+-----------+-------------+--------------------+\n",
            "\n"
          ]
        }
      ]
    },
    {
      "cell_type": "code",
      "source": [
        "import matplotlib.pyplot as plt\n",
        "\n",
        "# Convert to Pandas\n",
        "eviction_rate_pd = eviction_rate_df.toPandas()\n",
        "\n",
        "# Plot eviction rates\n",
        "plt.figure(figsize=(10, 6))\n",
        "plt.bar(eviction_rate_pd[\"scheduling_class\"], eviction_rate_pd[\"eviction_rate\"], alpha=0.7)\n",
        "plt.title(\"Eviction Rate by Scheduling Class\")\n",
        "plt.xlabel(\"Scheduling Class\")\n",
        "plt.ylabel(\"Eviction Rate\")\n",
        "plt.xticks(rotation=0)\n",
        "plt.tight_layout()\n",
        "plt.show()\n"
      ],
      "metadata": {
        "colab": {
          "base_uri": "https://localhost:8080/",
          "height": 607
        },
        "id": "Nb6gM_exjeUn",
        "outputId": "948ad1ed-44d7-4957-b2b6-6ac2c3fe38d2"
      },
      "execution_count": null,
      "outputs": [
        {
          "output_type": "display_data",
          "data": {
            "text/plain": [
              "<Figure size 1000x600 with 1 Axes>"
            ],
            "image/png": "[encoded data removed]"
          },
          "metadata": {}
        }
      ]
    },
    {
      "cell_type": "markdown",
      "source": [
        "***Question 5***  \n",
        "\n",
        "In general, do tasks from the same job run on the same machine?"
      ],
      "metadata": {
        "id": "YsBNiSzbjztc"
      }
    },
    {
      "cell_type": "code",
      "source": [
        "from pyspark.sql.functions import collect_set\n",
        "\n",
        "job_task_distribution = df_tasks.groupBy(\"job_id\").agg(\n",
        "    collect_set(\"machine_id\").alias(\"unique_machine_ids\")\n",
        ")\n",
        "\n",
        "# Add a column to count the number of unique machines per job\n",
        "from pyspark.sql.functions import size\n",
        "job_task_distribution = job_task_distribution.withColumn(\n",
        "    \"unique_machines\", size(\"unique_machine_ids\")\n",
        ")\n",
        "job_task_distribution.show()\n"
      ],
      "metadata": {
        "colab": {
          "base_uri": "https://localhost:8080/"
        },
        "id": "aQSiivY9j9UP",
        "outputId": "a7cf521b-441c-447a-af55-80278b37147b"
      },
      "execution_count": null,
      "outputs": [
        {
          "output_type": "stream",
          "name": "stdout",
          "text": [
            "+----------+--------------------+---------------+\n",
            "|    job_id|  unique_machine_ids|unique_machines|\n",
            "+----------+--------------------+---------------+\n",
            "|5554591681|[5140209174, 3866...|              2|\n",
            "|6280842804|[294924601, 29477...|             50|\n",
            "|6280943335|        [3584048977]|              1|\n",
            "|6280964430|[294863042, 16943...|             50|\n",
            "|6280965129|         [617369746]|              1|\n",
            "|6280647349|           [1697534]|              1|\n",
            "|6281181370|           [1094594]|              1|\n",
            "|6281199811|        [1436313838]|              1|\n",
            "|6281213429|[368691893, 43026...|            928|\n",
            "|6281227842|            [982412]|              1|\n",
            "|5129801730|          [16918689]|              1|\n",
            "|6271029164|[1694600, 2287075...|             43|\n",
            "|6280823262|           [8055060]|              1|\n",
            "|6280896595|        [4469327972]|              1|\n",
            "|6280913680|[336061640, 14413...|              4|\n",
            "|6280954473|        [2898888776]|              1|\n",
            "|5633011295|[4820097048, 4820...|              2|\n",
            "|6280096076|                  []|              0|\n",
            "|6281089729|        [4820003318]|              1|\n",
            "|6281127446|           [1696749]|              1|\n",
            "+----------+--------------------+---------------+\n",
            "only showing top 20 rows\n",
            "\n"
          ]
        }
      ]
    },
    {
      "cell_type": "code",
      "source": [
        "single_machine_jobs = job_task_distribution.filter(job_task_distribution[\"unique_machines\"] == 1).count()\n",
        "total_jobs = job_task_distribution.count()\n",
        "\n",
        "# Calculate percentage of jobs with tasks on a single machine\n",
        "single_machine_percentage = (single_machine_jobs / total_jobs) * 100\n",
        "print(f\"Percentage of jobs with all tasks on a single machine: {single_machine_percentage:.2f}%\")"
      ],
      "metadata": {
        "colab": {
          "base_uri": "https://localhost:8080/"
        },
        "id": "5r8xkIYkkJ84",
        "outputId": "e1741d94-5ffa-420d-84d7-1581f620b3eb"
      },
      "execution_count": null,
      "outputs": [
        {
          "output_type": "stream",
          "name": "stdout",
          "text": [
            "Percentage of jobs with all tasks on a single machine: 59.81%\n"
          ]
        }
      ]
    },
    {
      "cell_type": "code",
      "source": [
        "job_task_pd = job_task_distribution.toPandas()\n",
        "job_task_pd[\"unique_machines\"].describe()"
      ],
      "metadata": {
        "colab": {
          "base_uri": "https://localhost:8080/",
          "height": 335
        },
        "id": "waofWtE8mDBu",
        "outputId": "7d5ecc77-06f7-48b7-9755-b263f6fa306c",
        "collapsed": true
      },
      "execution_count": null,
      "outputs": [
        {
          "output_type": "execute_result",
          "data": {
            "text/plain": [
              "count    2207.000000\n",
              "mean       39.022655\n",
              "std       294.165768\n",
              "min         0.000000\n",
              "25%         1.000000\n",
              "50%         1.000000\n",
              "75%         4.000000\n",
              "max      7524.000000\n",
              "Name: unique_machines, dtype: float64"
            ],
            "text/html": [
              "<div>\n",
              "<style scoped>\n",
              "    .dataframe tbody tr th:only-of-type {\n",
              "        vertical-align: middle;\n",
              "    }\n",
              "\n",
              "    .dataframe tbody tr th {\n",
              "        vertical-align: top;\n",
              "    }\n",
              "\n",
              "    .dataframe thead th {\n",
              "        text-align: right;\n",
              "    }\n",
              "</style>\n",
              "<table border=\"1\" class=\"dataframe\">\n",
              "  <thead>\n",
              "    <tr style=\"text-align: right;\">\n",
              "      <th></th>\n",
              "      <th>unique_machines</th>\n",
              "    </tr>\n",
              "  </thead>\n",
              "  <tbody>\n",
              "    <tr>\n",
              "      <th>count</th>\n",
              "      <td>2207.000000</td>\n",
              "    </tr>\n",
              "    <tr>\n",
              "      <th>mean</th>\n",
              "      <td>39.022655</td>\n",
              "    </tr>\n",
              "    <tr>\n",
              "      <th>std</th>\n",
              "      <td>294.165768</td>\n",
              "    </tr>\n",
              "    <tr>\n",
              "      <th>min</th>\n",
              "      <td>0.000000</td>\n",
              "    </tr>\n",
              "    <tr>\n",
              "      <th>25%</th>\n",
              "      <td>1.000000</td>\n",
              "    </tr>\n",
              "    <tr>\n",
              "      <th>50%</th>\n",
              "      <td>1.000000</td>\n",
              "    </tr>\n",
              "    <tr>\n",
              "      <th>75%</th>\n",
              "      <td>4.000000</td>\n",
              "    </tr>\n",
              "    <tr>\n",
              "      <th>max</th>\n",
              "      <td>7524.000000</td>\n",
              "    </tr>\n",
              "  </tbody>\n",
              "</table>\n",
              "</div><br><label><b>dtype:</b> float64</label>"
            ]
          },
          "metadata": {},
          "execution_count": 46
        }
      ]
    },
    {
      "cell_type": "code",
      "source": [
        "filtered_data = job_task_pd[job_task_pd[\"unique_machines\"] <= 10]\n",
        "\n",
        "plt.figure(figsize=(10, 6))\n",
        "plt.hist(\n",
        "    filtered_data[\"unique_machines\"],\n",
        "    bins=range(1, 12),  # Bins for 1 to 10 machines\n",
        "    align=\"left\",\n",
        "    alpha=0.7\n",
        ")\n",
        "plt.title(\"Distribution of Unique Machines for Tasks of a Job (Zoomed In to ≤ 10 Machines)\")\n",
        "plt.xlabel(\"Number of Unique Machines\")\n",
        "plt.ylabel(\"Number of Jobs\")\n",
        "plt.xticks(range(1, 11))\n",
        "plt.tight_layout()\n",
        "plt.show()\n",
        "\n"
      ],
      "metadata": {
        "colab": {
          "base_uri": "https://localhost:8080/",
          "height": 607
        },
        "id": "tK8uC_RQkSXc",
        "outputId": "80094377-bf5d-479e-a775-25c715d832fb"
      },
      "execution_count": null,
      "outputs": [
        {
          "output_type": "display_data",
          "data": {
            "text/plain": [
              "<Figure size 1000x600 with 1 Axes>"
            ],
            "image/png": "[encoded data removed]"
          },
          "metadata": {}
        }
      ]
    },
    {
      "cell_type": "markdown",
      "source": [
        "Majority of Jobs Run on 1 Machine:\n",
        "\n",
        "- 59.81% of jobs have all their tasks running on a single machine.\n",
        "- This indicates that most jobs are lightweight and colocated, likely due to low resource requirements or high latency sensitivity.\n",
        "\n",
        "Significant Proportion Run on Multiple Machines:\n",
        "- 39.42% of jobs require tasks to run across multiple machines.\n",
        "- These jobs might be resource-intensive (e.g., requiring more CPU or memory) or inherently parallel (e.g., batch processing or distributed computations)."
      ],
      "metadata": {
        "id": "BHW2mZd3mvbs"
      }
    },
    {
      "cell_type": "code",
      "source": [
        "# Count jobs running on exactly 1 machine\n",
        "jobs_on_one_machine = job_task_pd[job_task_pd[\"unique_machines\"] == 1].shape[0]\n",
        "\n",
        "# Count jobs running on more than 1 machine\n",
        "jobs_on_multiple_machines = job_task_pd[job_task_pd[\"unique_machines\"] > 1].shape[0]\n",
        "\n",
        "# Total jobs\n",
        "total_jobs = job_task_pd.shape[0]\n",
        "\n",
        "# Calculate percentages\n",
        "percentage_one_machine = (jobs_on_one_machine / total_jobs) * 100\n",
        "percentage_multiple_machines = (jobs_on_multiple_machines / total_jobs) * 100\n",
        "\n",
        "# Print the statistics\n",
        "print(f\"Jobs running on 1 machine: {jobs_on_one_machine} ({percentage_one_machine:.2f}%)\")\n",
        "print(f\"Jobs running on more than 1 machine: {jobs_on_multiple_machines} ({percentage_multiple_machines:.2f}%)\")\n"
      ],
      "metadata": {
        "colab": {
          "base_uri": "https://localhost:8080/"
        },
        "id": "erfr5Zpwmm1c",
        "outputId": "dfad51d3-80c7-4097-891b-13b00cc97aa8"
      },
      "execution_count": null,
      "outputs": [
        {
          "output_type": "stream",
          "name": "stdout",
          "text": [
            "Jobs running on 1 machine: 1320 (59.81%)\n",
            "Jobs running on more than 1 machine: 870 (39.42%)\n"
          ]
        }
      ]
    },
    {
      "cell_type": "markdown",
      "source": [
        "**Question 6:**\n",
        "\n",
        " Are the tasks that request more resources the ones that consume more resources?"
      ],
      "metadata": {
        "id": "4P_nMo8HnElH"
      }
    },
    {
      "cell_type": "code",
      "source": [
        "!gsutil ls gs://clusterdata-2011-2/"
      ],
      "metadata": {
        "colab": {
          "base_uri": "https://localhost:8080/"
        },
        "collapsed": true,
        "id": "toegraLSXJs-",
        "outputId": "95e462f8-3b69-4dd8-cc3c-b54938b853d8"
      },
      "execution_count": null,
      "outputs": [
        {
          "output_type": "stream",
          "name": "stdout",
          "text": [
            "gs://clusterdata-2011-2/MD5SUM\n",
            "gs://clusterdata-2011-2/README\n",
            "gs://clusterdata-2011-2/SHA1SUM\n",
            "gs://clusterdata-2011-2/SHA256SUM\n",
            "gs://clusterdata-2011-2/schema.csv\n",
            "gs://clusterdata-2011-2/job_events/\n",
            "gs://clusterdata-2011-2/machine_attributes/\n",
            "gs://clusterdata-2011-2/machine_events/\n",
            "gs://clusterdata-2011-2/task_constraints/\n",
            "gs://clusterdata-2011-2/task_events/\n",
            "gs://clusterdata-2011-2/task_usage/\n"
          ]
        }
      ]
    },
    {
      "cell_type": "code",
      "source": [
        "!gsutil ls gs://clusterdata-2011-2/task_usage/\n"
      ],
      "metadata": {
        "collapsed": true,
        "colab": {
          "base_uri": "https://localhost:8080/"
        },
        "id": "lUwWF8g8YluM",
        "outputId": "3823913f-50d6-4760-eca6-5c288f34d7ae"
      },
      "execution_count": null,
      "outputs": [
        {
          "output_type": "stream",
          "name": "stdout",
          "text": [
            "gs://clusterdata-2011-2/task_usage/part-00000-of-00500.csv.gz\n",
            "gs://clusterdata-2011-2/task_usage/part-00001-of-00500.csv.gz\n",
            "gs://clusterdata-2011-2/task_usage/part-00002-of-00500.csv.gz\n",
            "gs://clusterdata-2011-2/task_usage/part-00003-of-00500.csv.gz\n",
            "gs://clusterdata-2011-2/task_usage/part-00004-of-00500.csv.gz\n",
            "gs://clusterdata-2011-2/task_usage/part-00005-of-00500.csv.gz\n",
            "gs://clusterdata-2011-2/task_usage/part-00006-of-00500.csv.gz\n",
            "gs://clusterdata-2011-2/task_usage/part-00007-of-00500.csv.gz\n",
            "gs://clusterdata-2011-2/task_usage/part-00008-of-00500.csv.gz\n",
            "gs://clusterdata-2011-2/task_usage/part-00009-of-00500.csv.gz\n",
            "gs://clusterdata-2011-2/task_usage/part-00010-of-00500.csv.gz\n",
            "gs://clusterdata-2011-2/task_usage/part-00011-of-00500.csv.gz\n",
            "gs://clusterdata-2011-2/task_usage/part-00012-of-00500.csv.gz\n",
            "gs://clusterdata-2011-2/task_usage/part-00013-of-00500.csv.gz\n",
            "gs://clusterdata-2011-2/task_usage/part-00014-of-00500.csv.gz\n",
            "gs://clusterdata-2011-2/task_usage/part-00015-of-00500.csv.gz\n",
            "gs://clusterdata-2011-2/task_usage/part-00016-of-00500.csv.gz\n",
            "gs://clusterdata-2011-2/task_usage/part-00017-of-00500.csv.gz\n",
            "gs://clusterdata-2011-2/task_usage/part-00018-of-00500.csv.gz\n",
            "gs://clusterdata-2011-2/task_usage/part-00019-of-00500.csv.gz\n",
            "gs://clusterdata-2011-2/task_usage/part-00020-of-00500.csv.gz\n",
            "gs://clusterdata-2011-2/task_usage/part-00021-of-00500.csv.gz\n",
            "gs://clusterdata-2011-2/task_usage/part-00022-of-00500.csv.gz\n",
            "gs://clusterdata-2011-2/task_usage/part-00023-of-00500.csv.gz\n",
            "gs://clusterdata-2011-2/task_usage/part-00024-of-00500.csv.gz\n",
            "gs://clusterdata-2011-2/task_usage/part-00025-of-00500.csv.gz\n",
            "gs://clusterdata-2011-2/task_usage/part-00026-of-00500.csv.gz\n",
            "gs://clusterdata-2011-2/task_usage/part-00027-of-00500.csv.gz\n",
            "gs://clusterdata-2011-2/task_usage/part-00028-of-00500.csv.gz\n",
            "gs://clusterdata-2011-2/task_usage/part-00029-of-00500.csv.gz\n",
            "gs://clusterdata-2011-2/task_usage/part-00030-of-00500.csv.gz\n",
            "gs://clusterdata-2011-2/task_usage/part-00031-of-00500.csv.gz\n",
            "gs://clusterdata-2011-2/task_usage/part-00032-of-00500.csv.gz\n",
            "gs://clusterdata-2011-2/task_usage/part-00033-of-00500.csv.gz\n",
            "gs://clusterdata-2011-2/task_usage/part-00034-of-00500.csv.gz\n",
            "gs://clusterdata-2011-2/task_usage/part-00035-of-00500.csv.gz\n",
            "gs://clusterdata-2011-2/task_usage/part-00036-of-00500.csv.gz\n",
            "gs://clusterdata-2011-2/task_usage/part-00037-of-00500.csv.gz\n",
            "gs://clusterdata-2011-2/task_usage/part-00038-of-00500.csv.gz\n",
            "gs://clusterdata-2011-2/task_usage/part-00039-of-00500.csv.gz\n",
            "gs://clusterdata-2011-2/task_usage/part-00040-of-00500.csv.gz\n",
            "gs://clusterdata-2011-2/task_usage/part-00041-of-00500.csv.gz\n",
            "gs://clusterdata-2011-2/task_usage/part-00042-of-00500.csv.gz\n",
            "gs://clusterdata-2011-2/task_usage/part-00043-of-00500.csv.gz\n",
            "gs://clusterdata-2011-2/task_usage/part-00044-of-00500.csv.gz\n",
            "gs://clusterdata-2011-2/task_usage/part-00045-of-00500.csv.gz\n",
            "gs://clusterdata-2011-2/task_usage/part-00046-of-00500.csv.gz\n",
            "gs://clusterdata-2011-2/task_usage/part-00047-of-00500.csv.gz\n",
            "gs://clusterdata-2011-2/task_usage/part-00048-of-00500.csv.gz\n",
            "gs://clusterdata-2011-2/task_usage/part-00049-of-00500.csv.gz\n",
            "gs://clusterdata-2011-2/task_usage/part-00050-of-00500.csv.gz\n",
            "gs://clusterdata-2011-2/task_usage/part-00051-of-00500.csv.gz\n",
            "gs://clusterdata-2011-2/task_usage/part-00052-of-00500.csv.gz\n",
            "gs://clusterdata-2011-2/task_usage/part-00053-of-00500.csv.gz\n",
            "gs://clusterdata-2011-2/task_usage/part-00054-of-00500.csv.gz\n",
            "gs://clusterdata-2011-2/task_usage/part-00055-of-00500.csv.gz\n",
            "gs://clusterdata-2011-2/task_usage/part-00056-of-00500.csv.gz\n",
            "gs://clusterdata-2011-2/task_usage/part-00057-of-00500.csv.gz\n",
            "gs://clusterdata-2011-2/task_usage/part-00058-of-00500.csv.gz\n",
            "gs://clusterdata-2011-2/task_usage/part-00059-of-00500.csv.gz\n",
            "gs://clusterdata-2011-2/task_usage/part-00060-of-00500.csv.gz\n",
            "gs://clusterdata-2011-2/task_usage/part-00061-of-00500.csv.gz\n",
            "gs://clusterdata-2011-2/task_usage/part-00062-of-00500.csv.gz\n",
            "gs://clusterdata-2011-2/task_usage/part-00063-of-00500.csv.gz\n",
            "gs://clusterdata-2011-2/task_usage/part-00064-of-00500.csv.gz\n",
            "gs://clusterdata-2011-2/task_usage/part-00065-of-00500.csv.gz\n",
            "gs://clusterdata-2011-2/task_usage/part-00066-of-00500.csv.gz\n",
            "gs://clusterdata-2011-2/task_usage/part-00067-of-00500.csv.gz\n",
            "gs://clusterdata-2011-2/task_usage/part-00068-of-00500.csv.gz\n",
            "gs://clusterdata-2011-2/task_usage/part-00069-of-00500.csv.gz\n",
            "gs://clusterdata-2011-2/task_usage/part-00070-of-00500.csv.gz\n",
            "gs://clusterdata-2011-2/task_usage/part-00071-of-00500.csv.gz\n",
            "gs://clusterdata-2011-2/task_usage/part-00072-of-00500.csv.gz\n",
            "gs://clusterdata-2011-2/task_usage/part-00073-of-00500.csv.gz\n",
            "gs://clusterdata-2011-2/task_usage/part-00074-of-00500.csv.gz\n",
            "gs://clusterdata-2011-2/task_usage/part-00075-of-00500.csv.gz\n",
            "gs://clusterdata-2011-2/task_usage/part-00076-of-00500.csv.gz\n",
            "gs://clusterdata-2011-2/task_usage/part-00077-of-00500.csv.gz\n",
            "gs://clusterdata-2011-2/task_usage/part-00078-of-00500.csv.gz\n",
            "gs://clusterdata-2011-2/task_usage/part-00079-of-00500.csv.gz\n",
            "gs://clusterdata-2011-2/task_usage/part-00080-of-00500.csv.gz\n",
            "gs://clusterdata-2011-2/task_usage/part-00081-of-00500.csv.gz\n",
            "gs://clusterdata-2011-2/task_usage/part-00082-of-00500.csv.gz\n",
            "gs://clusterdata-2011-2/task_usage/part-00083-of-00500.csv.gz\n",
            "gs://clusterdata-2011-2/task_usage/part-00084-of-00500.csv.gz\n",
            "gs://clusterdata-2011-2/task_usage/part-00085-of-00500.csv.gz\n",
            "gs://clusterdata-2011-2/task_usage/part-00086-of-00500.csv.gz\n",
            "gs://clusterdata-2011-2/task_usage/part-00087-of-00500.csv.gz\n",
            "gs://clusterdata-2011-2/task_usage/part-00088-of-00500.csv.gz\n",
            "gs://clusterdata-2011-2/task_usage/part-00089-of-00500.csv.gz\n",
            "gs://clusterdata-2011-2/task_usage/part-00090-of-00500.csv.gz\n",
            "gs://clusterdata-2011-2/task_usage/part-00091-of-00500.csv.gz\n",
            "gs://clusterdata-2011-2/task_usage/part-00092-of-00500.csv.gz\n",
            "gs://clusterdata-2011-2/task_usage/part-00093-of-00500.csv.gz\n",
            "gs://clusterdata-2011-2/task_usage/part-00094-of-00500.csv.gz\n",
            "gs://clusterdata-2011-2/task_usage/part-00095-of-00500.csv.gz\n",
            "gs://clusterdata-2011-2/task_usage/part-00096-of-00500.csv.gz\n",
            "gs://clusterdata-2011-2/task_usage/part-00097-of-00500.csv.gz\n",
            "gs://clusterdata-2011-2/task_usage/part-00098-of-00500.csv.gz\n",
            "gs://clusterdata-2011-2/task_usage/part-00099-of-00500.csv.gz\n",
            "gs://clusterdata-2011-2/task_usage/part-00100-of-00500.csv.gz\n",
            "gs://clusterdata-2011-2/task_usage/part-00101-of-00500.csv.gz\n",
            "gs://clusterdata-2011-2/task_usage/part-00102-of-00500.csv.gz\n",
            "gs://clusterdata-2011-2/task_usage/part-00103-of-00500.csv.gz\n",
            "gs://clusterdata-2011-2/task_usage/part-00104-of-00500.csv.gz\n",
            "gs://clusterdata-2011-2/task_usage/part-00105-of-00500.csv.gz\n",
            "gs://clusterdata-2011-2/task_usage/part-00106-of-00500.csv.gz\n",
            "gs://clusterdata-2011-2/task_usage/part-00107-of-00500.csv.gz\n",
            "gs://clusterdata-2011-2/task_usage/part-00108-of-00500.csv.gz\n",
            "gs://clusterdata-2011-2/task_usage/part-00109-of-00500.csv.gz\n",
            "gs://clusterdata-2011-2/task_usage/part-00110-of-00500.csv.gz\n",
            "gs://clusterdata-2011-2/task_usage/part-00111-of-00500.csv.gz\n",
            "gs://clusterdata-2011-2/task_usage/part-00112-of-00500.csv.gz\n",
            "gs://clusterdata-2011-2/task_usage/part-00113-of-00500.csv.gz\n",
            "gs://clusterdata-2011-2/task_usage/part-00114-of-00500.csv.gz\n",
            "gs://clusterdata-2011-2/task_usage/part-00115-of-00500.csv.gz\n",
            "gs://clusterdata-2011-2/task_usage/part-00116-of-00500.csv.gz\n",
            "gs://clusterdata-2011-2/task_usage/part-00117-of-00500.csv.gz\n",
            "gs://clusterdata-2011-2/task_usage/part-00118-of-00500.csv.gz\n",
            "gs://clusterdata-2011-2/task_usage/part-00119-of-00500.csv.gz\n",
            "gs://clusterdata-2011-2/task_usage/part-00120-of-00500.csv.gz\n",
            "gs://clusterdata-2011-2/task_usage/part-00121-of-00500.csv.gz\n",
            "gs://clusterdata-2011-2/task_usage/part-00122-of-00500.csv.gz\n",
            "gs://clusterdata-2011-2/task_usage/part-00123-of-00500.csv.gz\n",
            "gs://clusterdata-2011-2/task_usage/part-00124-of-00500.csv.gz\n",
            "gs://clusterdata-2011-2/task_usage/part-00125-of-00500.csv.gz\n",
            "gs://clusterdata-2011-2/task_usage/part-00126-of-00500.csv.gz\n",
            "gs://clusterdata-2011-2/task_usage/part-00127-of-00500.csv.gz\n",
            "gs://clusterdata-2011-2/task_usage/part-00128-of-00500.csv.gz\n",
            "gs://clusterdata-2011-2/task_usage/part-00129-of-00500.csv.gz\n",
            "gs://clusterdata-2011-2/task_usage/part-00130-of-00500.csv.gz\n",
            "gs://clusterdata-2011-2/task_usage/part-00131-of-00500.csv.gz\n",
            "gs://clusterdata-2011-2/task_usage/part-00132-of-00500.csv.gz\n",
            "gs://clusterdata-2011-2/task_usage/part-00133-of-00500.csv.gz\n",
            "gs://clusterdata-2011-2/task_usage/part-00134-of-00500.csv.gz\n",
            "gs://clusterdata-2011-2/task_usage/part-00135-of-00500.csv.gz\n",
            "gs://clusterdata-2011-2/task_usage/part-00136-of-00500.csv.gz\n",
            "gs://clusterdata-2011-2/task_usage/part-00137-of-00500.csv.gz\n",
            "gs://clusterdata-2011-2/task_usage/part-00138-of-00500.csv.gz\n",
            "gs://clusterdata-2011-2/task_usage/part-00139-of-00500.csv.gz\n",
            "gs://clusterdata-2011-2/task_usage/part-00140-of-00500.csv.gz\n",
            "gs://clusterdata-2011-2/task_usage/part-00141-of-00500.csv.gz\n",
            "gs://clusterdata-2011-2/task_usage/part-00142-of-00500.csv.gz\n",
            "gs://clusterdata-2011-2/task_usage/part-00143-of-00500.csv.gz\n",
            "gs://clusterdata-2011-2/task_usage/part-00144-of-00500.csv.gz\n",
            "gs://clusterdata-2011-2/task_usage/part-00145-of-00500.csv.gz\n",
            "gs://clusterdata-2011-2/task_usage/part-00146-of-00500.csv.gz\n",
            "gs://clusterdata-2011-2/task_usage/part-00147-of-00500.csv.gz\n",
            "gs://clusterdata-2011-2/task_usage/part-00148-of-00500.csv.gz\n",
            "gs://clusterdata-2011-2/task_usage/part-00149-of-00500.csv.gz\n",
            "gs://clusterdata-2011-2/task_usage/part-00150-of-00500.csv.gz\n",
            "gs://clusterdata-2011-2/task_usage/part-00151-of-00500.csv.gz\n",
            "gs://clusterdata-2011-2/task_usage/part-00152-of-00500.csv.gz\n",
            "gs://clusterdata-2011-2/task_usage/part-00153-of-00500.csv.gz\n",
            "gs://clusterdata-2011-2/task_usage/part-00154-of-00500.csv.gz\n",
            "gs://clusterdata-2011-2/task_usage/part-00155-of-00500.csv.gz\n",
            "gs://clusterdata-2011-2/task_usage/part-00156-of-00500.csv.gz\n",
            "gs://clusterdata-2011-2/task_usage/part-00157-of-00500.csv.gz\n",
            "gs://clusterdata-2011-2/task_usage/part-00158-of-00500.csv.gz\n",
            "gs://clusterdata-2011-2/task_usage/part-00159-of-00500.csv.gz\n",
            "gs://clusterdata-2011-2/task_usage/part-00160-of-00500.csv.gz\n",
            "gs://clusterdata-2011-2/task_usage/part-00161-of-00500.csv.gz\n",
            "gs://clusterdata-2011-2/task_usage/part-00162-of-00500.csv.gz\n",
            "gs://clusterdata-2011-2/task_usage/part-00163-of-00500.csv.gz\n",
            "gs://clusterdata-2011-2/task_usage/part-00164-of-00500.csv.gz\n",
            "gs://clusterdata-2011-2/task_usage/part-00165-of-00500.csv.gz\n",
            "gs://clusterdata-2011-2/task_usage/part-00166-of-00500.csv.gz\n",
            "gs://clusterdata-2011-2/task_usage/part-00167-of-00500.csv.gz\n",
            "gs://clusterdata-2011-2/task_usage/part-00168-of-00500.csv.gz\n",
            "gs://clusterdata-2011-2/task_usage/part-00169-of-00500.csv.gz\n",
            "gs://clusterdata-2011-2/task_usage/part-00170-of-00500.csv.gz\n",
            "gs://clusterdata-2011-2/task_usage/part-00171-of-00500.csv.gz\n",
            "gs://clusterdata-2011-2/task_usage/part-00172-of-00500.csv.gz\n",
            "gs://clusterdata-2011-2/task_usage/part-00173-of-00500.csv.gz\n",
            "gs://clusterdata-2011-2/task_usage/part-00174-of-00500.csv.gz\n",
            "gs://clusterdata-2011-2/task_usage/part-00175-of-00500.csv.gz\n",
            "gs://clusterdata-2011-2/task_usage/part-00176-of-00500.csv.gz\n",
            "gs://clusterdata-2011-2/task_usage/part-00177-of-00500.csv.gz\n",
            "gs://clusterdata-2011-2/task_usage/part-00178-of-00500.csv.gz\n",
            "gs://clusterdata-2011-2/task_usage/part-00179-of-00500.csv.gz\n",
            "gs://clusterdata-2011-2/task_usage/part-00180-of-00500.csv.gz\n",
            "gs://clusterdata-2011-2/task_usage/part-00181-of-00500.csv.gz\n",
            "gs://clusterdata-2011-2/task_usage/part-00182-of-00500.csv.gz\n",
            "gs://clusterdata-2011-2/task_usage/part-00183-of-00500.csv.gz\n",
            "gs://clusterdata-2011-2/task_usage/part-00184-of-00500.csv.gz\n",
            "gs://clusterdata-2011-2/task_usage/part-00185-of-00500.csv.gz\n",
            "gs://clusterdata-2011-2/task_usage/part-00186-of-00500.csv.gz\n",
            "gs://clusterdata-2011-2/task_usage/part-00187-of-00500.csv.gz\n",
            "gs://clusterdata-2011-2/task_usage/part-00188-of-00500.csv.gz\n",
            "gs://clusterdata-2011-2/task_usage/part-00189-of-00500.csv.gz\n",
            "gs://clusterdata-2011-2/task_usage/part-00190-of-00500.csv.gz\n",
            "gs://clusterdata-2011-2/task_usage/part-00191-of-00500.csv.gz\n",
            "gs://clusterdata-2011-2/task_usage/part-00192-of-00500.csv.gz\n",
            "gs://clusterdata-2011-2/task_usage/part-00193-of-00500.csv.gz\n",
            "gs://clusterdata-2011-2/task_usage/part-00194-of-00500.csv.gz\n",
            "gs://clusterdata-2011-2/task_usage/part-00195-of-00500.csv.gz\n",
            "gs://clusterdata-2011-2/task_usage/part-00196-of-00500.csv.gz\n",
            "gs://clusterdata-2011-2/task_usage/part-00197-of-00500.csv.gz\n",
            "gs://clusterdata-2011-2/task_usage/part-00198-of-00500.csv.gz\n",
            "gs://clusterdata-2011-2/task_usage/part-00199-of-00500.csv.gz\n",
            "gs://clusterdata-2011-2/task_usage/part-00200-of-00500.csv.gz\n",
            "gs://clusterdata-2011-2/task_usage/part-00201-of-00500.csv.gz\n",
            "gs://clusterdata-2011-2/task_usage/part-00202-of-00500.csv.gz\n",
            "gs://clusterdata-2011-2/task_usage/part-00203-of-00500.csv.gz\n",
            "gs://clusterdata-2011-2/task_usage/part-00204-of-00500.csv.gz\n",
            "gs://clusterdata-2011-2/task_usage/part-00205-of-00500.csv.gz\n",
            "gs://clusterdata-2011-2/task_usage/part-00206-of-00500.csv.gz\n",
            "gs://clusterdata-2011-2/task_usage/part-00207-of-00500.csv.gz\n",
            "gs://clusterdata-2011-2/task_usage/part-00208-of-00500.csv.gz\n",
            "gs://clusterdata-2011-2/task_usage/part-00209-of-00500.csv.gz\n",
            "gs://clusterdata-2011-2/task_usage/part-00210-of-00500.csv.gz\n",
            "gs://clusterdata-2011-2/task_usage/part-00211-of-00500.csv.gz\n",
            "gs://clusterdata-2011-2/task_usage/part-00212-of-00500.csv.gz\n",
            "gs://clusterdata-2011-2/task_usage/part-00213-of-00500.csv.gz\n",
            "gs://clusterdata-2011-2/task_usage/part-00214-of-00500.csv.gz\n",
            "gs://clusterdata-2011-2/task_usage/part-00215-of-00500.csv.gz\n",
            "gs://clusterdata-2011-2/task_usage/part-00216-of-00500.csv.gz\n",
            "gs://clusterdata-2011-2/task_usage/part-00217-of-00500.csv.gz\n",
            "gs://clusterdata-2011-2/task_usage/part-00218-of-00500.csv.gz\n",
            "gs://clusterdata-2011-2/task_usage/part-00219-of-00500.csv.gz\n",
            "gs://clusterdata-2011-2/task_usage/part-00220-of-00500.csv.gz\n",
            "gs://clusterdata-2011-2/task_usage/part-00221-of-00500.csv.gz\n",
            "gs://clusterdata-2011-2/task_usage/part-00222-of-00500.csv.gz\n",
            "gs://clusterdata-2011-2/task_usage/part-00223-of-00500.csv.gz\n",
            "gs://clusterdata-2011-2/task_usage/part-00224-of-00500.csv.gz\n",
            "gs://clusterdata-2011-2/task_usage/part-00225-of-00500.csv.gz\n",
            "gs://clusterdata-2011-2/task_usage/part-00226-of-00500.csv.gz\n",
            "gs://clusterdata-2011-2/task_usage/part-00227-of-00500.csv.gz\n",
            "gs://clusterdata-2011-2/task_usage/part-00228-of-00500.csv.gz\n",
            "gs://clusterdata-2011-2/task_usage/part-00229-of-00500.csv.gz\n",
            "gs://clusterdata-2011-2/task_usage/part-00230-of-00500.csv.gz\n",
            "gs://clusterdata-2011-2/task_usage/part-00231-of-00500.csv.gz\n",
            "gs://clusterdata-2011-2/task_usage/part-00232-of-00500.csv.gz\n",
            "gs://clusterdata-2011-2/task_usage/part-00233-of-00500.csv.gz\n",
            "gs://clusterdata-2011-2/task_usage/part-00234-of-00500.csv.gz\n",
            "gs://clusterdata-2011-2/task_usage/part-00235-of-00500.csv.gz\n",
            "gs://clusterdata-2011-2/task_usage/part-00236-of-00500.csv.gz\n",
            "gs://clusterdata-2011-2/task_usage/part-00237-of-00500.csv.gz\n",
            "gs://clusterdata-2011-2/task_usage/part-00238-of-00500.csv.gz\n",
            "gs://clusterdata-2011-2/task_usage/part-00239-of-00500.csv.gz\n",
            "gs://clusterdata-2011-2/task_usage/part-00240-of-00500.csv.gz\n",
            "gs://clusterdata-2011-2/task_usage/part-00241-of-00500.csv.gz\n",
            "gs://clusterdata-2011-2/task_usage/part-00242-of-00500.csv.gz\n",
            "gs://clusterdata-2011-2/task_usage/part-00243-of-00500.csv.gz\n",
            "gs://clusterdata-2011-2/task_usage/part-00244-of-00500.csv.gz\n",
            "gs://clusterdata-2011-2/task_usage/part-00245-of-00500.csv.gz\n",
            "gs://clusterdata-2011-2/task_usage/part-00246-of-00500.csv.gz\n",
            "gs://clusterdata-2011-2/task_usage/part-00247-of-00500.csv.gz\n",
            "gs://clusterdata-2011-2/task_usage/part-00248-of-00500.csv.gz\n",
            "gs://clusterdata-2011-2/task_usage/part-00249-of-00500.csv.gz\n",
            "gs://clusterdata-2011-2/task_usage/part-00250-of-00500.csv.gz\n",
            "gs://clusterdata-2011-2/task_usage/part-00251-of-00500.csv.gz\n",
            "gs://clusterdata-2011-2/task_usage/part-00252-of-00500.csv.gz\n",
            "gs://clusterdata-2011-2/task_usage/part-00253-of-00500.csv.gz\n",
            "gs://clusterdata-2011-2/task_usage/part-00254-of-00500.csv.gz\n",
            "gs://clusterdata-2011-2/task_usage/part-00255-of-00500.csv.gz\n",
            "gs://clusterdata-2011-2/task_usage/part-00256-of-00500.csv.gz\n",
            "gs://clusterdata-2011-2/task_usage/part-00257-of-00500.csv.gz\n",
            "gs://clusterdata-2011-2/task_usage/part-00258-of-00500.csv.gz\n",
            "gs://clusterdata-2011-2/task_usage/part-00259-of-00500.csv.gz\n",
            "gs://clusterdata-2011-2/task_usage/part-00260-of-00500.csv.gz\n",
            "gs://clusterdata-2011-2/task_usage/part-00261-of-00500.csv.gz\n",
            "gs://clusterdata-2011-2/task_usage/part-00262-of-00500.csv.gz\n",
            "gs://clusterdata-2011-2/task_usage/part-00263-of-00500.csv.gz\n",
            "gs://clusterdata-2011-2/task_usage/part-00264-of-00500.csv.gz\n",
            "gs://clusterdata-2011-2/task_usage/part-00265-of-00500.csv.gz\n",
            "gs://clusterdata-2011-2/task_usage/part-00266-of-00500.csv.gz\n",
            "gs://clusterdata-2011-2/task_usage/part-00267-of-00500.csv.gz\n",
            "gs://clusterdata-2011-2/task_usage/part-00268-of-00500.csv.gz\n",
            "gs://clusterdata-2011-2/task_usage/part-00269-of-00500.csv.gz\n",
            "gs://clusterdata-2011-2/task_usage/part-00270-of-00500.csv.gz\n",
            "gs://clusterdata-2011-2/task_usage/part-00271-of-00500.csv.gz\n",
            "gs://clusterdata-2011-2/task_usage/part-00272-of-00500.csv.gz\n",
            "gs://clusterdata-2011-2/task_usage/part-00273-of-00500.csv.gz\n",
            "gs://clusterdata-2011-2/task_usage/part-00274-of-00500.csv.gz\n",
            "gs://clusterdata-2011-2/task_usage/part-00275-of-00500.csv.gz\n",
            "gs://clusterdata-2011-2/task_usage/part-00276-of-00500.csv.gz\n",
            "gs://clusterdata-2011-2/task_usage/part-00277-of-00500.csv.gz\n",
            "gs://clusterdata-2011-2/task_usage/part-00278-of-00500.csv.gz\n",
            "gs://clusterdata-2011-2/task_usage/part-00279-of-00500.csv.gz\n",
            "gs://clusterdata-2011-2/task_usage/part-00280-of-00500.csv.gz\n",
            "gs://clusterdata-2011-2/task_usage/part-00281-of-00500.csv.gz\n",
            "gs://clusterdata-2011-2/task_usage/part-00282-of-00500.csv.gz\n",
            "gs://clusterdata-2011-2/task_usage/part-00283-of-00500.csv.gz\n",
            "gs://clusterdata-2011-2/task_usage/part-00284-of-00500.csv.gz\n",
            "gs://clusterdata-2011-2/task_usage/part-00285-of-00500.csv.gz\n",
            "gs://clusterdata-2011-2/task_usage/part-00286-of-00500.csv.gz\n",
            "gs://clusterdata-2011-2/task_usage/part-00287-of-00500.csv.gz\n",
            "gs://clusterdata-2011-2/task_usage/part-00288-of-00500.csv.gz\n",
            "gs://clusterdata-2011-2/task_usage/part-00289-of-00500.csv.gz\n",
            "gs://clusterdata-2011-2/task_usage/part-00290-of-00500.csv.gz\n",
            "gs://clusterdata-2011-2/task_usage/part-00291-of-00500.csv.gz\n",
            "gs://clusterdata-2011-2/task_usage/part-00292-of-00500.csv.gz\n",
            "gs://clusterdata-2011-2/task_usage/part-00293-of-00500.csv.gz\n",
            "gs://clusterdata-2011-2/task_usage/part-00294-of-00500.csv.gz\n",
            "gs://clusterdata-2011-2/task_usage/part-00295-of-00500.csv.gz\n",
            "gs://clusterdata-2011-2/task_usage/part-00296-of-00500.csv.gz\n",
            "gs://clusterdata-2011-2/task_usage/part-00297-of-00500.csv.gz\n",
            "gs://clusterdata-2011-2/task_usage/part-00298-of-00500.csv.gz\n",
            "gs://clusterdata-2011-2/task_usage/part-00299-of-00500.csv.gz\n",
            "gs://clusterdata-2011-2/task_usage/part-00300-of-00500.csv.gz\n",
            "gs://clusterdata-2011-2/task_usage/part-00301-of-00500.csv.gz\n",
            "gs://clusterdata-2011-2/task_usage/part-00302-of-00500.csv.gz\n",
            "gs://clusterdata-2011-2/task_usage/part-00303-of-00500.csv.gz\n",
            "gs://clusterdata-2011-2/task_usage/part-00304-of-00500.csv.gz\n",
            "gs://clusterdata-2011-2/task_usage/part-00305-of-00500.csv.gz\n",
            "gs://clusterdata-2011-2/task_usage/part-00306-of-00500.csv.gz\n",
            "gs://clusterdata-2011-2/task_usage/part-00307-of-00500.csv.gz\n",
            "gs://clusterdata-2011-2/task_usage/part-00308-of-00500.csv.gz\n",
            "gs://clusterdata-2011-2/task_usage/part-00309-of-00500.csv.gz\n",
            "gs://clusterdata-2011-2/task_usage/part-00310-of-00500.csv.gz\n",
            "gs://clusterdata-2011-2/task_usage/part-00311-of-00500.csv.gz\n",
            "gs://clusterdata-2011-2/task_usage/part-00312-of-00500.csv.gz\n",
            "gs://clusterdata-2011-2/task_usage/part-00313-of-00500.csv.gz\n",
            "gs://clusterdata-2011-2/task_usage/part-00314-of-00500.csv.gz\n",
            "gs://clusterdata-2011-2/task_usage/part-00315-of-00500.csv.gz\n",
            "gs://clusterdata-2011-2/task_usage/part-00316-of-00500.csv.gz\n",
            "gs://clusterdata-2011-2/task_usage/part-00317-of-00500.csv.gz\n",
            "gs://clusterdata-2011-2/task_usage/part-00318-of-00500.csv.gz\n",
            "gs://clusterdata-2011-2/task_usage/part-00319-of-00500.csv.gz\n",
            "gs://clusterdata-2011-2/task_usage/part-00320-of-00500.csv.gz\n",
            "gs://clusterdata-2011-2/task_usage/part-00321-of-00500.csv.gz\n",
            "gs://clusterdata-2011-2/task_usage/part-00322-of-00500.csv.gz\n",
            "gs://clusterdata-2011-2/task_usage/part-00323-of-00500.csv.gz\n",
            "gs://clusterdata-2011-2/task_usage/part-00324-of-00500.csv.gz\n",
            "gs://clusterdata-2011-2/task_usage/part-00325-of-00500.csv.gz\n",
            "gs://clusterdata-2011-2/task_usage/part-00326-of-00500.csv.gz\n",
            "gs://clusterdata-2011-2/task_usage/part-00327-of-00500.csv.gz\n",
            "gs://clusterdata-2011-2/task_usage/part-00328-of-00500.csv.gz\n",
            "gs://clusterdata-2011-2/task_usage/part-00329-of-00500.csv.gz\n",
            "gs://clusterdata-2011-2/task_usage/part-00330-of-00500.csv.gz\n",
            "gs://clusterdata-2011-2/task_usage/part-00331-of-00500.csv.gz\n",
            "gs://clusterdata-2011-2/task_usage/part-00332-of-00500.csv.gz\n",
            "gs://clusterdata-2011-2/task_usage/part-00333-of-00500.csv.gz\n",
            "gs://clusterdata-2011-2/task_usage/part-00334-of-00500.csv.gz\n",
            "gs://clusterdata-2011-2/task_usage/part-00335-of-00500.csv.gz\n",
            "gs://clusterdata-2011-2/task_usage/part-00336-of-00500.csv.gz\n",
            "gs://clusterdata-2011-2/task_usage/part-00337-of-00500.csv.gz\n",
            "gs://clusterdata-2011-2/task_usage/part-00338-of-00500.csv.gz\n",
            "gs://clusterdata-2011-2/task_usage/part-00339-of-00500.csv.gz\n",
            "gs://clusterdata-2011-2/task_usage/part-00340-of-00500.csv.gz\n",
            "gs://clusterdata-2011-2/task_usage/part-00341-of-00500.csv.gz\n",
            "gs://clusterdata-2011-2/task_usage/part-00342-of-00500.csv.gz\n",
            "gs://clusterdata-2011-2/task_usage/part-00343-of-00500.csv.gz\n",
            "gs://clusterdata-2011-2/task_usage/part-00344-of-00500.csv.gz\n",
            "gs://clusterdata-2011-2/task_usage/part-00345-of-00500.csv.gz\n",
            "gs://clusterdata-2011-2/task_usage/part-00346-of-00500.csv.gz\n",
            "gs://clusterdata-2011-2/task_usage/part-00347-of-00500.csv.gz\n",
            "gs://clusterdata-2011-2/task_usage/part-00348-of-00500.csv.gz\n",
            "gs://clusterdata-2011-2/task_usage/part-00349-of-00500.csv.gz\n",
            "gs://clusterdata-2011-2/task_usage/part-00350-of-00500.csv.gz\n",
            "gs://clusterdata-2011-2/task_usage/part-00351-of-00500.csv.gz\n",
            "gs://clusterdata-2011-2/task_usage/part-00352-of-00500.csv.gz\n",
            "gs://clusterdata-2011-2/task_usage/part-00353-of-00500.csv.gz\n",
            "gs://clusterdata-2011-2/task_usage/part-00354-of-00500.csv.gz\n",
            "gs://clusterdata-2011-2/task_usage/part-00355-of-00500.csv.gz\n",
            "gs://clusterdata-2011-2/task_usage/part-00356-of-00500.csv.gz\n",
            "gs://clusterdata-2011-2/task_usage/part-00357-of-00500.csv.gz\n",
            "gs://clusterdata-2011-2/task_usage/part-00358-of-00500.csv.gz\n",
            "gs://clusterdata-2011-2/task_usage/part-00359-of-00500.csv.gz\n",
            "gs://clusterdata-2011-2/task_usage/part-00360-of-00500.csv.gz\n",
            "gs://clusterdata-2011-2/task_usage/part-00361-of-00500.csv.gz\n",
            "gs://clusterdata-2011-2/task_usage/part-00362-of-00500.csv.gz\n",
            "gs://clusterdata-2011-2/task_usage/part-00363-of-00500.csv.gz\n",
            "gs://clusterdata-2011-2/task_usage/part-00364-of-00500.csv.gz\n",
            "gs://clusterdata-2011-2/task_usage/part-00365-of-00500.csv.gz\n",
            "gs://clusterdata-2011-2/task_usage/part-00366-of-00500.csv.gz\n",
            "gs://clusterdata-2011-2/task_usage/part-00367-of-00500.csv.gz\n",
            "gs://clusterdata-2011-2/task_usage/part-00368-of-00500.csv.gz\n",
            "gs://clusterdata-2011-2/task_usage/part-00369-of-00500.csv.gz\n",
            "gs://clusterdata-2011-2/task_usage/part-00370-of-00500.csv.gz\n",
            "gs://clusterdata-2011-2/task_usage/part-00371-of-00500.csv.gz\n",
            "gs://clusterdata-2011-2/task_usage/part-00372-of-00500.csv.gz\n",
            "gs://clusterdata-2011-2/task_usage/part-00373-of-00500.csv.gz\n",
            "gs://clusterdata-2011-2/task_usage/part-00374-of-00500.csv.gz\n",
            "gs://clusterdata-2011-2/task_usage/part-00375-of-00500.csv.gz\n",
            "gs://clusterdata-2011-2/task_usage/part-00376-of-00500.csv.gz\n",
            "gs://clusterdata-2011-2/task_usage/part-00377-of-00500.csv.gz\n",
            "gs://clusterdata-2011-2/task_usage/part-00378-of-00500.csv.gz\n",
            "gs://clusterdata-2011-2/task_usage/part-00379-of-00500.csv.gz\n",
            "gs://clusterdata-2011-2/task_usage/part-00380-of-00500.csv.gz\n",
            "gs://clusterdata-2011-2/task_usage/part-00381-of-00500.csv.gz\n",
            "gs://clusterdata-2011-2/task_usage/part-00382-of-00500.csv.gz\n",
            "gs://clusterdata-2011-2/task_usage/part-00383-of-00500.csv.gz\n",
            "gs://clusterdata-2011-2/task_usage/part-00384-of-00500.csv.gz\n",
            "gs://clusterdata-2011-2/task_usage/part-00385-of-00500.csv.gz\n",
            "gs://clusterdata-2011-2/task_usage/part-00386-of-00500.csv.gz\n",
            "gs://clusterdata-2011-2/task_usage/part-00387-of-00500.csv.gz\n",
            "gs://clusterdata-2011-2/task_usage/part-00388-of-00500.csv.gz\n",
            "gs://clusterdata-2011-2/task_usage/part-00389-of-00500.csv.gz\n",
            "gs://clusterdata-2011-2/task_usage/part-00390-of-00500.csv.gz\n",
            "gs://clusterdata-2011-2/task_usage/part-00391-of-00500.csv.gz\n",
            "gs://clusterdata-2011-2/task_usage/part-00392-of-00500.csv.gz\n",
            "gs://clusterdata-2011-2/task_usage/part-00393-of-00500.csv.gz\n",
            "gs://clusterdata-2011-2/task_usage/part-00394-of-00500.csv.gz\n",
            "gs://clusterdata-2011-2/task_usage/part-00395-of-00500.csv.gz\n",
            "gs://clusterdata-2011-2/task_usage/part-00396-of-00500.csv.gz\n",
            "gs://clusterdata-2011-2/task_usage/part-00397-of-00500.csv.gz\n",
            "gs://clusterdata-2011-2/task_usage/part-00398-of-00500.csv.gz\n",
            "gs://clusterdata-2011-2/task_usage/part-00399-of-00500.csv.gz\n",
            "gs://clusterdata-2011-2/task_usage/part-00400-of-00500.csv.gz\n",
            "gs://clusterdata-2011-2/task_usage/part-00401-of-00500.csv.gz\n",
            "gs://clusterdata-2011-2/task_usage/part-00402-of-00500.csv.gz\n",
            "gs://clusterdata-2011-2/task_usage/part-00403-of-00500.csv.gz\n",
            "gs://clusterdata-2011-2/task_usage/part-00404-of-00500.csv.gz\n",
            "gs://clusterdata-2011-2/task_usage/part-00405-of-00500.csv.gz\n",
            "gs://clusterdata-2011-2/task_usage/part-00406-of-00500.csv.gz\n",
            "gs://clusterdata-2011-2/task_usage/part-00407-of-00500.csv.gz\n",
            "gs://clusterdata-2011-2/task_usage/part-00408-of-00500.csv.gz\n",
            "gs://clusterdata-2011-2/task_usage/part-00409-of-00500.csv.gz\n",
            "gs://clusterdata-2011-2/task_usage/part-00410-of-00500.csv.gz\n",
            "gs://clusterdata-2011-2/task_usage/part-00411-of-00500.csv.gz\n",
            "gs://clusterdata-2011-2/task_usage/part-00412-of-00500.csv.gz\n",
            "gs://clusterdata-2011-2/task_usage/part-00413-of-00500.csv.gz\n",
            "gs://clusterdata-2011-2/task_usage/part-00414-of-00500.csv.gz\n",
            "gs://clusterdata-2011-2/task_usage/part-00415-of-00500.csv.gz\n",
            "gs://clusterdata-2011-2/task_usage/part-00416-of-00500.csv.gz\n",
            "gs://clusterdata-2011-2/task_usage/part-00417-of-00500.csv.gz\n",
            "gs://clusterdata-2011-2/task_usage/part-00418-of-00500.csv.gz\n",
            "gs://clusterdata-2011-2/task_usage/part-00419-of-00500.csv.gz\n",
            "gs://clusterdata-2011-2/task_usage/part-00420-of-00500.csv.gz\n",
            "gs://clusterdata-2011-2/task_usage/part-00421-of-00500.csv.gz\n",
            "gs://clusterdata-2011-2/task_usage/part-00422-of-00500.csv.gz\n",
            "gs://clusterdata-2011-2/task_usage/part-00423-of-00500.csv.gz\n",
            "gs://clusterdata-2011-2/task_usage/part-00424-of-00500.csv.gz\n",
            "gs://clusterdata-2011-2/task_usage/part-00425-of-00500.csv.gz\n",
            "gs://clusterdata-2011-2/task_usage/part-00426-of-00500.csv.gz\n",
            "gs://clusterdata-2011-2/task_usage/part-00427-of-00500.csv.gz\n",
            "gs://clusterdata-2011-2/task_usage/part-00428-of-00500.csv.gz\n",
            "gs://clusterdata-2011-2/task_usage/part-00429-of-00500.csv.gz\n",
            "gs://clusterdata-2011-2/task_usage/part-00430-of-00500.csv.gz\n",
            "gs://clusterdata-2011-2/task_usage/part-00431-of-00500.csv.gz\n",
            "gs://clusterdata-2011-2/task_usage/part-00432-of-00500.csv.gz\n",
            "gs://clusterdata-2011-2/task_usage/part-00433-of-00500.csv.gz\n",
            "gs://clusterdata-2011-2/task_usage/part-00434-of-00500.csv.gz\n",
            "gs://clusterdata-2011-2/task_usage/part-00435-of-00500.csv.gz\n",
            "gs://clusterdata-2011-2/task_usage/part-00436-of-00500.csv.gz\n",
            "gs://clusterdata-2011-2/task_usage/part-00437-of-00500.csv.gz\n",
            "gs://clusterdata-2011-2/task_usage/part-00438-of-00500.csv.gz\n",
            "gs://clusterdata-2011-2/task_usage/part-00439-of-00500.csv.gz\n",
            "gs://clusterdata-2011-2/task_usage/part-00440-of-00500.csv.gz\n",
            "gs://clusterdata-2011-2/task_usage/part-00441-of-00500.csv.gz\n",
            "gs://clusterdata-2011-2/task_usage/part-00442-of-00500.csv.gz\n",
            "gs://clusterdata-2011-2/task_usage/part-00443-of-00500.csv.gz\n",
            "gs://clusterdata-2011-2/task_usage/part-00444-of-00500.csv.gz\n",
            "gs://clusterdata-2011-2/task_usage/part-00445-of-00500.csv.gz\n",
            "gs://clusterdata-2011-2/task_usage/part-00446-of-00500.csv.gz\n",
            "gs://clusterdata-2011-2/task_usage/part-00447-of-00500.csv.gz\n",
            "gs://clusterdata-2011-2/task_usage/part-00448-of-00500.csv.gz\n",
            "gs://clusterdata-2011-2/task_usage/part-00449-of-00500.csv.gz\n",
            "gs://clusterdata-2011-2/task_usage/part-00450-of-00500.csv.gz\n",
            "gs://clusterdata-2011-2/task_usage/part-00451-of-00500.csv.gz\n",
            "gs://clusterdata-2011-2/task_usage/part-00452-of-00500.csv.gz\n",
            "gs://clusterdata-2011-2/task_usage/part-00453-of-00500.csv.gz\n",
            "gs://clusterdata-2011-2/task_usage/part-00454-of-00500.csv.gz\n",
            "gs://clusterdata-2011-2/task_usage/part-00455-of-00500.csv.gz\n",
            "gs://clusterdata-2011-2/task_usage/part-00456-of-00500.csv.gz\n",
            "gs://clusterdata-2011-2/task_usage/part-00457-of-00500.csv.gz\n",
            "gs://clusterdata-2011-2/task_usage/part-00458-of-00500.csv.gz\n",
            "gs://clusterdata-2011-2/task_usage/part-00459-of-00500.csv.gz\n",
            "gs://clusterdata-2011-2/task_usage/part-00460-of-00500.csv.gz\n",
            "gs://clusterdata-2011-2/task_usage/part-00461-of-00500.csv.gz\n",
            "gs://clusterdata-2011-2/task_usage/part-00462-of-00500.csv.gz\n",
            "gs://clusterdata-2011-2/task_usage/part-00463-of-00500.csv.gz\n",
            "gs://clusterdata-2011-2/task_usage/part-00464-of-00500.csv.gz\n",
            "gs://clusterdata-2011-2/task_usage/part-00465-of-00500.csv.gz\n",
            "gs://clusterdata-2011-2/task_usage/part-00466-of-00500.csv.gz\n",
            "gs://clusterdata-2011-2/task_usage/part-00467-of-00500.csv.gz\n",
            "gs://clusterdata-2011-2/task_usage/part-00468-of-00500.csv.gz\n",
            "gs://clusterdata-2011-2/task_usage/part-00469-of-00500.csv.gz\n",
            "gs://clusterdata-2011-2/task_usage/part-00470-of-00500.csv.gz\n",
            "gs://clusterdata-2011-2/task_usage/part-00471-of-00500.csv.gz\n",
            "gs://clusterdata-2011-2/task_usage/part-00472-of-00500.csv.gz\n",
            "gs://clusterdata-2011-2/task_usage/part-00473-of-00500.csv.gz\n",
            "gs://clusterdata-2011-2/task_usage/part-00474-of-00500.csv.gz\n",
            "gs://clusterdata-2011-2/task_usage/part-00475-of-00500.csv.gz\n",
            "gs://clusterdata-2011-2/task_usage/part-00476-of-00500.csv.gz\n",
            "gs://clusterdata-2011-2/task_usage/part-00477-of-00500.csv.gz\n",
            "gs://clusterdata-2011-2/task_usage/part-00478-of-00500.csv.gz\n",
            "gs://clusterdata-2011-2/task_usage/part-00479-of-00500.csv.gz\n",
            "gs://clusterdata-2011-2/task_usage/part-00480-of-00500.csv.gz\n",
            "gs://clusterdata-2011-2/task_usage/part-00481-of-00500.csv.gz\n",
            "gs://clusterdata-2011-2/task_usage/part-00482-of-00500.csv.gz\n",
            "gs://clusterdata-2011-2/task_usage/part-00483-of-00500.csv.gz\n",
            "gs://clusterdata-2011-2/task_usage/part-00484-of-00500.csv.gz\n",
            "gs://clusterdata-2011-2/task_usage/part-00485-of-00500.csv.gz\n",
            "gs://clusterdata-2011-2/task_usage/part-00486-of-00500.csv.gz\n",
            "gs://clusterdata-2011-2/task_usage/part-00487-of-00500.csv.gz\n",
            "gs://clusterdata-2011-2/task_usage/part-00488-of-00500.csv.gz\n",
            "gs://clusterdata-2011-2/task_usage/part-00489-of-00500.csv.gz\n",
            "gs://clusterdata-2011-2/task_usage/part-00490-of-00500.csv.gz\n",
            "gs://clusterdata-2011-2/task_usage/part-00491-of-00500.csv.gz\n",
            "gs://clusterdata-2011-2/task_usage/part-00492-of-00500.csv.gz\n",
            "gs://clusterdata-2011-2/task_usage/part-00493-of-00500.csv.gz\n",
            "gs://clusterdata-2011-2/task_usage/part-00494-of-00500.csv.gz\n",
            "gs://clusterdata-2011-2/task_usage/part-00495-of-00500.csv.gz\n",
            "gs://clusterdata-2011-2/task_usage/part-00496-of-00500.csv.gz\n",
            "gs://clusterdata-2011-2/task_usage/part-00497-of-00500.csv.gz\n",
            "gs://clusterdata-2011-2/task_usage/part-00498-of-00500.csv.gz\n",
            "gs://clusterdata-2011-2/task_usage/part-00499-of-00500.csv.gz\n"
          ]
        }
      ]
    },
    {
      "cell_type": "code",
      "source": [
        "!gsutil cp gs://clusterdata-2011-2/task_usage/part-00000-of-00500.csv.gz ./\n",
        "!gunzip part-00000-of-00500.csv.gz\n",
        "\n",
        "# Load into a Spark DataFrame\n",
        "df_task_usage = spark.read.csv(\"part-00000-of-00500.csv\", header=False, inferSchema=True)\n",
        "df_task_usage.printSchema()\n",
        "df_task_usage.show(5)"
      ],
      "metadata": {
        "colab": {
          "base_uri": "https://localhost:8080/"
        },
        "id": "rohkEnG9Yni0",
        "outputId": "66455792-eed6-4291-8a6a-4fe49e9d3cb2",
        "collapsed": true
      },
      "execution_count": null,
      "outputs": [
        {
          "output_type": "stream",
          "name": "stdout",
          "text": [
            "Copying gs://clusterdata-2011-2/task_usage/part-00000-of-00500.csv.gz...\n",
            "\\ [1 files][ 87.5 MiB/ 87.5 MiB]                                                \n",
            "Operation completed over 1 objects/87.5 MiB.                                     \n",
            "root\n",
            " |-- _c0: long (nullable = true)\n",
            " |-- _c1: long (nullable = true)\n",
            " |-- _c2: long (nullable = true)\n",
            " |-- _c3: integer (nullable = true)\n",
            " |-- _c4: long (nullable = true)\n",
            " |-- _c5: double (nullable = true)\n",
            " |-- _c6: double (nullable = true)\n",
            " |-- _c7: double (nullable = true)\n",
            " |-- _c8: double (nullable = true)\n",
            " |-- _c9: double (nullable = true)\n",
            " |-- _c10: double (nullable = true)\n",
            " |-- _c11: double (nullable = true)\n",
            " |-- _c12: double (nullable = true)\n",
            " |-- _c13: double (nullable = true)\n",
            " |-- _c14: double (nullable = true)\n",
            " |-- _c15: double (nullable = true)\n",
            " |-- _c16: double (nullable = true)\n",
            " |-- _c17: integer (nullable = true)\n",
            " |-- _c18: integer (nullable = true)\n",
            " |-- _c19: double (nullable = true)\n",
            "\n",
            "+---------+---------+-------+---+----------+--------+-------+-------+--------+--------+-------+--------+--------+--------+--------+-----+--------+----+----+----+\n",
            "|      _c0|      _c1|    _c2|_c3|       _c4|     _c5|    _c6|    _c7|     _c8|     _c9|   _c10|    _c11|    _c12|    _c13|    _c14| _c15|    _c16|_c17|_c18|_c19|\n",
            "+---------+---------+-------+---+----------+--------+-------+-------+--------+--------+-------+--------+--------+--------+--------+-----+--------+----+----+----+\n",
            "|600000000|900000000|3418309|  0|4155527081|0.001562|0.06787|0.07568|0.001156|0.001503|0.06787|2.861E-6|1.869E-4| 0.03967|3.567E-4|2.445|0.007243|   0|   1| 0.0|\n",
            "|600000000|900000000|3418309|  1| 329150663|0.001568|0.06787|0.07556|3.195E-4|  7.0E-4|0.06787|5.722E-6|1.879E-4| 0.03302|9.289E-4|  2.1|0.005791|   0|   1| 0.0|\n",
            "|600000000|900000000|3418314|  0|3938719206|3.071E-4|0.08044|0.09521|2.823E-4|6.704E-4|0.08044|4.768E-6|1.841E-4| 0.02377|7.858E-4|5.588|  0.0208|   0|   1| 0.0|\n",
            "|600000000|900000000|3418314|  1| 351618647|3.004E-4|0.08044|0.09521|5.369E-4|8.698E-4|0.08044|9.537E-6|1.831E-4|0.007919|0.002285|5.198| 0.02038|   0|   1| 0.0|\n",
            "|600000000|900000000|3418319|  0| 431052910|4.606E-4|0.07715| 0.0874|6.247E-4|8.516E-4|0.07715|1.907E-6|2.041E-4|0.005112|2.146E-4|2.937|0.009449|   0|   1| 0.0|\n",
            "+---------+---------+-------+---+----------+--------+-------+-------+--------+--------+-------+--------+--------+--------+--------+-----+--------+----+----+----+\n",
            "only showing top 5 rows\n",
            "\n"
          ]
        }
      ]
    },
    {
      "cell_type": "code",
      "source": [
        "# Define the columns for the task_usage data based on the schema provided\n",
        "task_usage_columns = [\n",
        "    \"start_time\", \"end_time\", \"job_id\", \"task_index\", \"machine_id\",\n",
        "    \"cpu_rate\", \"canonical_memory_usage\", \"assigned_memory_usage\",\n",
        "    \"unmapped_page_cache\", \"total_page_cache\", \"maximum_memory_usage\",\n",
        "    \"disk_io_time\", \"local_disk_space_usage\", \"maximum_cpu_rate\",\n",
        "    \"maximum_disk_io_time\", \"cycles_per_instruction\",\n",
        "    \"memory_accesses_per_instruction\", \"sample_portion\",\n",
        "    \"aggregation_type\", \"sampled_cpu_usage\"\n",
        "]\n",
        "\n",
        "# Rename the columns to match the schema\n",
        "df_task_usage = df_task_usage.toDF(*task_usage_columns)\n",
        "\n",
        "# Display the schema and a sample of the dataset to verify\n",
        "df_task_usage.printSchema()\n",
        "df_task_usage.show(5)"
      ],
      "metadata": {
        "colab": {
          "base_uri": "https://localhost:8080/"
        },
        "id": "9RVCMb7_Y-G6",
        "outputId": "3f43c7d3-54b3-4996-cdb7-9aba4ec60732"
      },
      "execution_count": null,
      "outputs": [
        {
          "output_type": "stream",
          "name": "stdout",
          "text": [
            "root\n",
            " |-- start_time: long (nullable = true)\n",
            " |-- end_time: long (nullable = true)\n",
            " |-- job_id: long (nullable = true)\n",
            " |-- task_index: integer (nullable = true)\n",
            " |-- machine_id: long (nullable = true)\n",
            " |-- cpu_rate: double (nullable = true)\n",
            " |-- canonical_memory_usage: double (nullable = true)\n",
            " |-- assigned_memory_usage: double (nullable = true)\n",
            " |-- unmapped_page_cache: double (nullable = true)\n",
            " |-- total_page_cache: double (nullable = true)\n",
            " |-- maximum_memory_usage: double (nullable = true)\n",
            " |-- disk_io_time: double (nullable = true)\n",
            " |-- local_disk_space_usage: double (nullable = true)\n",
            " |-- maximum_cpu_rate: double (nullable = true)\n",
            " |-- maximum_disk_io_time: double (nullable = true)\n",
            " |-- cycles_per_instruction: double (nullable = true)\n",
            " |-- memory_accesses_per_instruction: double (nullable = true)\n",
            " |-- sample_portion: integer (nullable = true)\n",
            " |-- aggregation_type: integer (nullable = true)\n",
            " |-- sampled_cpu_usage: double (nullable = true)\n",
            "\n",
            "+----------+---------+-------+----------+----------+--------+----------------------+---------------------+-------------------+----------------+--------------------+------------+----------------------+----------------+--------------------+----------------------+-------------------------------+--------------+----------------+-----------------+\n",
            "|start_time| end_time| job_id|task_index|machine_id|cpu_rate|canonical_memory_usage|assigned_memory_usage|unmapped_page_cache|total_page_cache|maximum_memory_usage|disk_io_time|local_disk_space_usage|maximum_cpu_rate|maximum_disk_io_time|cycles_per_instruction|memory_accesses_per_instruction|sample_portion|aggregation_type|sampled_cpu_usage|\n",
            "+----------+---------+-------+----------+----------+--------+----------------------+---------------------+-------------------+----------------+--------------------+------------+----------------------+----------------+--------------------+----------------------+-------------------------------+--------------+----------------+-----------------+\n",
            "| 600000000|900000000|3418309|         0|4155527081|0.001562|               0.06787|              0.07568|           0.001156|        0.001503|             0.06787|    2.861E-6|              1.869E-4|         0.03967|            3.567E-4|                 2.445|                       0.007243|             0|               1|              0.0|\n",
            "| 600000000|900000000|3418309|         1| 329150663|0.001568|               0.06787|              0.07556|           3.195E-4|          7.0E-4|             0.06787|    5.722E-6|              1.879E-4|         0.03302|            9.289E-4|                   2.1|                       0.005791|             0|               1|              0.0|\n",
            "| 600000000|900000000|3418314|         0|3938719206|3.071E-4|               0.08044|              0.09521|           2.823E-4|        6.704E-4|             0.08044|    4.768E-6|              1.841E-4|         0.02377|            7.858E-4|                 5.588|                         0.0208|             0|               1|              0.0|\n",
            "| 600000000|900000000|3418314|         1| 351618647|3.004E-4|               0.08044|              0.09521|           5.369E-4|        8.698E-4|             0.08044|    9.537E-6|              1.831E-4|        0.007919|            0.002285|                 5.198|                        0.02038|             0|               1|              0.0|\n",
            "| 600000000|900000000|3418319|         0| 431052910|4.606E-4|               0.07715|               0.0874|           6.247E-4|        8.516E-4|             0.07715|    1.907E-6|              2.041E-4|        0.005112|            2.146E-4|                 2.937|                       0.009449|             0|               1|              0.0|\n",
            "+----------+---------+-------+----------+----------+--------+----------------------+---------------------+-------------------+----------------+--------------------+------------+----------------------+----------------+--------------------+----------------------+-------------------------------+--------------+----------------+-----------------+\n",
            "only showing top 5 rows\n",
            "\n"
          ]
        }
      ]
    },
    {
      "cell_type": "code",
      "source": [
        "# Example: Performing further analysis\n",
        "# Calculate the average CPU and memory usage for each job\n",
        "from pyspark.sql.functions import avg\n",
        "\n",
        "avg_usage_per_job = df_task_usage.groupBy(\"job_id\").agg(\n",
        "    avg(\"cpu_rate\").alias(\"avg_cpu_rate\"),\n",
        "    avg(\"canonical_memory_usage\").alias(\"avg_memory_usage\")\n",
        ")\n",
        "\n",
        "# Show the average usage per job\n",
        "avg_usage_per_job.show(5)"
      ],
      "metadata": {
        "colab": {
          "base_uri": "https://localhost:8080/"
        },
        "id": "evsjhcLgZLbR",
        "outputId": "2292315d-1868-4a21-c495-484438892755"
      },
      "execution_count": null,
      "outputs": [
        {
          "output_type": "stream",
          "name": "stdout",
          "text": [
            "+----------+--------------------+--------------------+\n",
            "|    job_id|        avg_cpu_rate|    avg_memory_usage|\n",
            "+----------+--------------------+--------------------+\n",
            "|2509801309|0.004876411764705882|0.003249725490196...|\n",
            "|4537082914|0.002769217647058824|0.002645882352941176|\n",
            "|4645263861|2.642294117647059E-5|1.355058823529411...|\n",
            "|4974913023|4.526588235294117E-4|0.001903764705882353|\n",
            "|5440065284|0.009467385130718955|0.048431910130718944|\n",
            "+----------+--------------------+--------------------+\n",
            "only showing top 5 rows\n",
            "\n"
          ]
        }
      ]
    },
    {
      "cell_type": "code",
      "source": [
        "from pyspark.sql.functions import col, avg\n",
        "\n",
        "# Join the two DataFrames on job_id and task_index\n",
        "tasks_combined = df_tasks.join(df_task_usage, [\"job_id\", \"task_index\"])\n",
        "\n",
        "# Calculate the ratios of consumed/requested resources\n",
        "tasks_combined = tasks_combined.withColumn(\n",
        "    \"cpu_ratio\", col(\"cpu_rate\") / col(\"cpu_request\")\n",
        ").withColumn(\n",
        "    \"memory_ratio\", col(\"canonical_memory_usage\") / col(\"memory_request\")\n",
        ")\n",
        "\n",
        "# Show the resulting DataFrame with ratios\n",
        "tasks_combined.select(\n",
        "    \"job_id\", \"task_index\", \"cpu_request\", \"cpu_rate\", \"cpu_ratio\",\n",
        "    \"memory_request\", \"canonical_memory_usage\", \"memory_ratio\"\n",
        ").show(5)"
      ],
      "metadata": {
        "colab": {
          "base_uri": "https://localhost:8080/"
        },
        "id": "gSsCSj0yZjf-",
        "outputId": "4cbd5fc1-b74a-4ab3-ae0b-9c12bd9b9f94"
      },
      "execution_count": null,
      "outputs": [
        {
          "output_type": "stream",
          "name": "stdout",
          "text": [
            "+----------+----------+-----------+--------+-------------------+--------------+----------------------+-------------------+\n",
            "|    job_id|task_index|cpu_request|cpu_rate|          cpu_ratio|memory_request|canonical_memory_usage|       memory_ratio|\n",
            "+----------+----------+-----------+--------+-------------------+--------------+----------------------+-------------------+\n",
            "|5402488769|      1435|   6.247E-4|4.578E-5|0.07328317592444374|      0.003883|              9.279E-4|0.23896471800154517|\n",
            "|5402488769|      1435|   6.247E-4|4.482E-5|0.07174643829037938|      0.003883|              9.298E-4|0.23945403038887458|\n",
            "|5402488769|      1435|   6.247E-4|4.482E-5|0.07174643829037938|      0.003883|              9.279E-4|0.23896471800154517|\n",
            "|5402488769|      1435|   6.247E-4|4.482E-5|0.07174643829037938|      0.003883|              9.298E-4|0.23945403038887458|\n",
            "|5402488769|      1435|   6.247E-4|4.578E-5|0.07328317592444374|      0.003883|              9.279E-4|0.23896471800154517|\n",
            "+----------+----------+-----------+--------+-------------------+--------------+----------------------+-------------------+\n",
            "only showing top 5 rows\n",
            "\n"
          ]
        }
      ]
    },
    {
      "cell_type": "code",
      "source": [
        "# Aggregate to find the average ratios\n",
        "average_ratios = tasks_combined.groupBy().agg(\n",
        "    avg(\"cpu_ratio\").alias(\"avg_cpu_ratio\"),\n",
        "    avg(\"memory_ratio\").alias(\"avg_memory_ratio\")\n",
        ")\n",
        "\n",
        "# Show the average ratios\n",
        "average_ratios.show()"
      ],
      "metadata": {
        "colab": {
          "base_uri": "https://localhost:8080/"
        },
        "id": "dVIBJSwQZpd6",
        "outputId": "12646cfe-a1e4-419f-ae0d-69a9b20c8f56"
      },
      "execution_count": null,
      "outputs": [
        {
          "output_type": "stream",
          "name": "stdout",
          "text": [
            "+------------------+-----------------+\n",
            "|     avg_cpu_ratio| avg_memory_ratio|\n",
            "+------------------+-----------------+\n",
            "|0.1511406017765278|0.191974804371141|\n",
            "+------------------+-----------------+\n",
            "\n"
          ]
        }
      ]
    },
    {
      "cell_type": "code",
      "source": [
        "import matplotlib.pyplot as plt\n",
        "\n",
        "# Convert to Pandas for visualization\n",
        "tasks_combined_pd = tasks_combined.select(\n",
        "    \"cpu_request\", \"cpu_rate\", \"memory_request\", \"canonical_memory_usage\"\n",
        ").toPandas()\n",
        "\n",
        "# Scatter plot for CPU\n",
        "plt.figure(figsize=(10, 6))\n",
        "plt.scatter(tasks_combined_pd[\"cpu_request\"], tasks_combined_pd[\"cpu_rate\"], alpha=0.5)\n",
        "plt.title(\"CPU Consumption vs. Request\")\n",
        "plt.xlabel(\"Requested CPU\")\n",
        "plt.ylabel(\"Consumed CPU\")\n",
        "plt.tight_layout()\n",
        "plt.show()\n",
        "\n",
        "# Scatter plot for Memory\n",
        "plt.figure(figsize=(10, 6))\n",
        "plt.scatter(tasks_combined_pd[\"memory_request\"], tasks_combined_pd[\"canonical_memory_usage\"], alpha=0.5)\n",
        "plt.title(\"Memory Consumption vs. Request\")\n",
        "plt.xlabel(\"Requested Memory\")\n",
        "plt.ylabel(\"Consumed Memory\")\n",
        "plt.tight_layout()\n",
        "plt.show()\n"
      ],
      "metadata": {
        "colab": {
          "base_uri": "https://localhost:8080/",
          "height": 1000
        },
        "id": "EItzuQXDZw3c",
        "outputId": "ea2612ad-2972-4f15-fdaf-ab053b3f525f"
      },
      "execution_count": null,
      "outputs": [
        {
          "output_type": "display_data",
          "data": {
            "text/plain": [
              "<Figure size 1000x600 with 1 Axes>"
            ],
            "image/png": "[encoded data removed]"
          },
          "metadata": {}
        },
        {
          "output_type": "display_data",
          "data": {
            "text/plain": [
              "<Figure size 1000x600 with 1 Axes>"
            ],
            "image/png": "[encoded data removed]"
          },
          "metadata": {}
        }
      ]
    },
    {
      "cell_type": "code",
      "source": [
        "import numpy as np\n",
        "\n",
        "# Heatmap for CPU\n",
        "cpu_heatmap, xedges, yedges = np.histogram2d(\n",
        "    tasks_combined_pd[\"cpu_request\"], tasks_combined_pd[\"cpu_rate\"], bins=50\n",
        ")\n",
        "\n",
        "plt.figure(figsize=(10, 6))\n",
        "plt.imshow(cpu_heatmap.T, origin=\"lower\", aspect=\"auto\", extent=[xedges[0], xedges[-1], yedges[0], yedges[-1]])\n",
        "plt.title(\"Heatmap of CPU Consumption vs. Request\")\n",
        "plt.xlabel(\"Requested CPU\")\n",
        "plt.ylabel(\"Consumed CPU\")\n",
        "plt.colorbar(label=\"Density\")\n",
        "plt.tight_layout()\n",
        "plt.show()\n",
        "\n",
        "# Heatmap for Memory\n",
        "memory_heatmap, xedges, yedges = np.histogram2d(\n",
        "    tasks_combined_pd[\"memory_request\"], tasks_combined_pd[\"canonical_memory_usage\"], bins=50\n",
        ")\n",
        "\n",
        "plt.figure(figsize=(10, 6))\n",
        "plt.imshow(memory_heatmap.T, origin=\"lower\", aspect=\"auto\", extent=[xedges[0], xedges[-1], yedges[0], yedges[-1]])\n",
        "plt.title(\"Heatmap of Memory Consumption vs. Request\")\n",
        "plt.xlabel(\"Requested Memory\")\n",
        "plt.ylabel(\"Consumed Memory\")\n",
        "plt.colorbar(label=\"Density\")\n",
        "plt.tight_layout()\n",
        "plt.show()\n"
      ],
      "metadata": {
        "colab": {
          "base_uri": "https://localhost:8080/",
          "height": 1000
        },
        "id": "2wOcg5WhaWyV",
        "outputId": "f5264edf-8719-443c-fe30-ff120948e88a"
      },
      "execution_count": null,
      "outputs": [
        {
          "output_type": "display_data",
          "data": {
            "text/plain": [
              "<Figure size 1000x600 with 2 Axes>"
            ],
            "image/png": "[encoded data removed]"
          },
          "metadata": {}
        },
        {
          "output_type": "display_data",
          "data": {
            "text/plain": [
              "<Figure size 1000x600 with 2 Axes>"
            ],
            "image/png": "[encoded data removed]"
          },
          "metadata": {}
        }
      ]
    },
    {
      "cell_type": "markdown",
      "source": [
        "**Question 7:**\n",
        "\n",
        "Can we observe correlations between peaks of high resource consumption on some ma-\n",
        "chines and task eviction events?"
      ],
      "metadata": {
        "id": "G6e5DfKXK0io"
      }
    },
    {
      "cell_type": "code",
      "source": [
        "from pyspark.sql.functions import col, when, avg, max, pandas_udf\n",
        "from pyspark.sql.types import DoubleType\n",
        "import numpy as np  # Ensure numpy is also imported for percentile calculation\n",
        "import pandas as pd  # Ensure pandas is also imported\n",
        "\n",
        "# Step 1: Define a UDF to calculate percentiles\n",
        "@pandas_udf(DoubleType())\n",
        "def percentile_approx_udf(values: pd.Series) -> float:\n",
        "    return np.percentile(values, 90)  # Hardcoding the 90th percentile\n",
        "\n",
        "# Step 2: Group by machine_id and calculate the 90th percentile for each resource\n",
        "thresholds = df_tasks.groupBy(\"machine_id\").agg(\n",
        "    percentile_approx_udf(col(\"cpu_request\")).alias(\"cpu_threshold\"),\n",
        "    percentile_approx_udf(col(\"memory_request\")).alias(\"memory_threshold\"),\n",
        "    percentile_approx_udf(col(\"disk_request\")).alias(\"disk_threshold\")\n",
        ")\n",
        "\n",
        "thresholds.show()\n"
      ],
      "metadata": {
        "colab": {
          "base_uri": "https://localhost:8080/"
        },
        "id": "1iSJE6miLFkP",
        "outputId": "b86ace38-1ed9-4de0-bbf4-9906fce2955b"
      },
      "execution_count": null,
      "outputs": [
        {
          "output_type": "stream",
          "name": "stdout",
          "text": [
            "+----------+--------------------+--------------------+--------------------+\n",
            "|machine_id|       cpu_threshold|    memory_threshold|      disk_threshold|\n",
            "+----------+--------------------+--------------------+--------------------+\n",
            "|        26|             0.03125|0.047510000000000004|            0.001131|\n",
            "|    381364|             0.06873|             0.07959|            1.154E-4|\n",
            "|    418690|             0.06873|             0.07959|            7.725E-5|\n",
            "|    672517| 0.07500000000000001|            0.042964|           3.2444E-4|\n",
            "|    903236|             0.06873|             0.07959|            5.817E-5|\n",
            "|   1093605|             0.06873|             0.07959|            1.507E-4|\n",
            "|   1268612|                 0.0|            9.537E-7|                 0.0|\n",
            "|   1271879|             0.06873|            0.034197|            0.001543|\n",
            "|   1272595|             0.06873|             0.07959|            5.398E-4|\n",
            "|   1273026|              0.0625|             0.04663|2.496399999999998...|\n",
            "|   1273307|             0.03748|             0.04663|            0.001131|\n",
            "|   1331701|              0.0625|             0.03467|4.169199999999999E-4|\n",
            "|   1338600|0.037094999999999996|            0.047784|            5.704E-4|\n",
            "|   3936060|             0.06873|             0.07959|            1.154E-4|\n",
            "|   6565013|             0.03737|             0.03979|           5.1272E-4|\n",
            "|   6569659|            0.006248|              0.0318|            3.815E-5|\n",
            "|   6641557|             0.06873|             0.07959|            5.817E-5|\n",
            "|   7352912|             0.06873|             0.04773|1.842200000000000...|\n",
            "|  17504054|             0.06873|             0.07959|            1.154E-4|\n",
            "|  38759120|             0.06873|             0.04773|            3.862E-4|\n",
            "+----------+--------------------+--------------------+--------------------+\n",
            "only showing top 20 rows\n",
            "\n"
          ]
        }
      ]
    },
    {
      "cell_type": "code",
      "source": [
        "# Step 3: Identify tasks with resource peaks\n",
        "tasks_with_peaks = df_tasks.join(thresholds, \"machine_id\").filter(\n",
        "    (col(\"cpu_request\") > col(\"cpu_threshold\")) |\n",
        "    (col(\"memory_request\") > col(\"memory_threshold\")) |\n",
        "    (col(\"disk_request\") > col(\"disk_threshold\"))\n",
        ")\n",
        "\n",
        "# Add a flag for resource peaks\n",
        "tasks_with_peaks = tasks_with_peaks.withColumn(\"resource_peak\", when(\n",
        "    (col(\"cpu_request\") > col(\"cpu_threshold\")) |\n",
        "    (col(\"memory_request\") > col(\"memory_threshold\")) |\n",
        "    (col(\"disk_request\") > col(\"disk_threshold\")), 1).otherwise(0)\n",
        ")\n",
        "tasks_with_peaks.show()"
      ],
      "metadata": {
        "colab": {
          "base_uri": "https://localhost:8080/"
        },
        "id": "ECuMUC_ZMEhR",
        "outputId": "e2c4d621-acbe-4af5-b7fe-bc9ef0dda9df"
      },
      "execution_count": null,
      "outputs": [
        {
          "output_type": "stream",
          "name": "stdout",
          "text": [
            "+----------+------------+------------+----------+----------+----------+--------------------+----------------+--------+-----------+--------------+------------+-----------------------------+-------------+--------------------+--------------+-------------+\n",
            "|machine_id|        time|missing_info|    job_id|task_index|event_type|                user|scheduling_class|priority|cpu_request|memory_request|disk_request|different_machine_restriction|cpu_threshold|    memory_threshold|disk_threshold|resource_peak|\n",
            "+----------+------------+------------+----------+----------+----------+--------------------+----------------+--------+-----------+--------------+------------+-----------------------------+-------------+--------------------+--------------+-------------+\n",
            "|        26|253482736610|        null|6281060560|         5|         1|5O7KchgAlEtI+Xw9m...|               0|       0|    0.01562|       0.04773|    1.154E-4|                            0|      0.03125|0.047510000000000004|      0.001131|            1|\n",
            "|        26|253754795996|        null|6281060560|         5|         2|5O7KchgAlEtI+Xw9m...|               0|       0|    0.01562|       0.04773|    1.154E-4|                            0|      0.03125|0.047510000000000004|      0.001131|            1|\n",
            "|        26|253754796007|        null|6281088730|       431|         1|TpvNZQVOGF/Vr5q+K...|               0|       4|     0.0625|        0.0636|     0.00193|                            0|      0.03125|0.047510000000000004|      0.001131|            1|\n",
            "|        26|253811378097|        null|6281088730|       431|         5|TpvNZQVOGF/Vr5q+K...|               0|       4|     0.0625|        0.0636|     0.00193|                            0|      0.03125|0.047510000000000004|      0.001131|            1|\n",
            "|        26|255328204504|        null|6281240782|       563|         1|fJYeclskJqPWsAT6T...|               0|       4|    0.03748|       0.03979|    3.862E-4|                            0|      0.03125|0.047510000000000004|      0.001131|            1|\n",
            "|    381364|253434410739|        null|6278957267|      1149|         4|fJYeclskJqPWsAT6T...|               0|       4|    0.03693|       0.03979|    5.398E-4|                            0|      0.06873|             0.07959|      1.154E-4|            1|\n",
            "|    418690|251564576748|        null|6280580177|       891|         4|8bx9rRmJacN7GS1Yb...|               0|       1|   0.009369|      0.005875|    3.862E-4|                            0|      0.06873|             0.07959|      7.725E-5|            1|\n",
            "|    418690|252436213684|        null|6279310884|       428|         4|Nugr6rX+U6WELDvGY...|               0|       1|     0.0625|        0.0318|    2.699E-4|                            0|      0.06873|             0.07959|      7.725E-5|            1|\n",
            "|    418690|253209483086|        null|6280039882|       178|         1|tbZPogOJtA44Ygqw4...|               0|       0|    0.03845|        0.1592|    7.715E-4|                            0|      0.06873|             0.07959|      7.725E-5|            1|\n",
            "|    418690|253281709862|        null|6280039882|       178|         4|tbZPogOJtA44Ygqw4...|               0|       0|    0.03845|        0.1592|    7.715E-4|                            0|      0.06873|             0.07959|      7.725E-5|            1|\n",
            "|    418690|253286404638|        null|6280039882|       388|         1|tbZPogOJtA44Ygqw4...|               0|       0|    0.03845|        0.1592|    7.715E-4|                            0|      0.06873|             0.07959|      7.725E-5|            1|\n",
            "|    418690|253329335858|        null|6280039882|       388|         4|tbZPogOJtA44Ygqw4...|               0|       0|    0.03845|        0.1592|    7.715E-4|                            0|      0.06873|             0.07959|      7.725E-5|            1|\n",
            "|    418690|253331050216|        null|6280039882|       123|         1|tbZPogOJtA44Ygqw4...|               0|       0|    0.03845|        0.1592|    7.715E-4|                            0|      0.06873|             0.07959|      7.725E-5|            1|\n",
            "|    418690|253378514668|        null|6280039882|       123|         4|tbZPogOJtA44Ygqw4...|               0|       0|    0.03845|        0.1592|    7.715E-4|                            0|      0.06873|             0.07959|      7.725E-5|            1|\n",
            "|    418690|253380326830|        null|6280039882|       954|         1|tbZPogOJtA44Ygqw4...|               0|       0|    0.03845|        0.1592|    7.715E-4|                            0|      0.06873|             0.07959|      7.725E-5|            1|\n",
            "|    418690|253414774810|        null|6280039882|       954|         4|tbZPogOJtA44Ygqw4...|               0|       0|    0.03845|        0.1592|    7.715E-4|                            0|      0.06873|             0.07959|      7.725E-5|            1|\n",
            "|    418690|253419025038|        null|6280039882|      1153|         1|tbZPogOJtA44Ygqw4...|               0|       0|    0.03845|        0.1592|    7.715E-4|                            0|      0.06873|             0.07959|      7.725E-5|            1|\n",
            "|    418690|253455166159|        null|6280039882|      1153|         4|tbZPogOJtA44Ygqw4...|               0|       0|    0.03845|        0.1592|    7.715E-4|                            0|      0.06873|             0.07959|      7.725E-5|            1|\n",
            "|    418690|253464442896|        null|6280039882|      1363|         1|tbZPogOJtA44Ygqw4...|               0|       0|    0.03845|        0.1592|    7.715E-4|                            0|      0.06873|             0.07959|      7.725E-5|            1|\n",
            "|    418690|253505537007|        null|6280039882|      1363|         4|tbZPogOJtA44Ygqw4...|               0|       0|    0.03845|        0.1592|    7.715E-4|                            0|      0.06873|             0.07959|      7.725E-5|            1|\n",
            "+----------+------------+------------+----------+----------+----------+--------------------+----------------+--------+-----------+--------------+------------+-----------------------------+-------------+--------------------+--------------+-------------+\n",
            "only showing top 20 rows\n",
            "\n"
          ]
        }
      ]
    },
    {
      "cell_type": "code",
      "source": [
        "# Step 4: Identify eviction events\n",
        "evicted_tasks = df_tasks.filter(df_tasks[\"event_type\"] == 2).select(\"job_id\", \"machine_id\", \"time\")"
      ],
      "metadata": {
        "id": "x-hPIdfwMJc4"
      },
      "execution_count": null,
      "outputs": []
    },
    {
      "cell_type": "code",
      "source": [
        "# Step 5: Join eviction events with tasks having resource peaks\n",
        "eviction_with_peaks = evicted_tasks.join(tasks_with_peaks, [\"machine_id\", \"job_id\"])\n",
        "\n",
        "# Calculate correlation between peaks and eviction events\n",
        "correlation = eviction_with_peaks.count() / evicted_tasks.count()\n",
        "print(f\"Correlation between resource peaks and eviction events: {correlation:.2f}\")"
      ],
      "metadata": {
        "id": "XCecVpwwMPk2",
        "colab": {
          "base_uri": "https://localhost:8080/"
        },
        "outputId": "73ee6b4a-f9ae-48fa-9f90-5f69c3cafe5b"
      },
      "execution_count": null,
      "outputs": [
        {
          "output_type": "stream",
          "name": "stdout",
          "text": [
            "Correlation between resource peaks and eviction events: 0.25\n"
          ]
        }
      ]
    },
    {
      "cell_type": "code",
      "source": [
        "import numpy as np\n",
        "\n",
        "eviction_peak_pd[\"count\"] = 1  # Assign 1 to each row to count occurrences\n",
        "\n",
        "# Bin machine IDs into ranges\n",
        "eviction_peak_pd[\"machine_bin\"] = pd.cut(\n",
        "    eviction_peak_pd[\"machine_id\"],\n",
        "    bins=np.linspace(eviction_peak_pd[\"machine_id\"].min(), eviction_peak_pd[\"machine_id\"].max(), 10),\n",
        "    labels=[f\"Bin {i}\" for i in range(1, 10)],\n",
        ")\n",
        "\n",
        "# Aggregate counts by bins\n",
        "binned_data = eviction_peak_pd.groupby(\"machine_bin\")[\"count\"].sum().reset_index()\n",
        "\n",
        "# Plot\n",
        "plt.figure(figsize=(10, 6))\n",
        "plt.bar(binned_data[\"machine_bin\"], binned_data[\"count\"], alpha=0.7)\n",
        "plt.title(\"Eviction Events by Machine ID Bins\")\n",
        "plt.xlabel(\"Machine Bin\")\n",
        "plt.ylabel(\"Total Evictions\")\n",
        "plt.xticks(rotation=45)\n",
        "plt.tight_layout()\n",
        "plt.show()\n"
      ],
      "metadata": {
        "id": "sx0MVNoHMWMg",
        "colab": {
          "base_uri": "https://localhost:8080/",
          "height": 662
        },
        "outputId": "2923f057-dbf0-44fc-a425-caa5319c0e62"
      },
      "execution_count": null,
      "outputs": [
        {
          "output_type": "stream",
          "name": "stderr",
          "text": [
            "<ipython-input-69-51c3a9cec444>:13: FutureWarning: The default of observed=False is deprecated and will be changed to True in a future version of pandas. Pass observed=False to retain current behavior or observed=True to adopt the future default and silence this warning.\n",
            "  binned_data = eviction_peak_pd.groupby(\"machine_bin\")[\"count\"].sum().reset_index()\n"
          ]
        },
        {
          "output_type": "display_data",
          "data": {
            "text/plain": [
              "<Figure size 1000x600 with 1 Axes>"
            ],
            "image/png": "[encoded data removed]"
          },
          "metadata": {}
        }
      ]
    },
    {
      "cell_type": "code",
      "source": [
        "print(eviction_peak_pd.head())\n",
        "print(eviction_peak_pd.dtypes)"
      ],
      "metadata": {
        "id": "luaN6y3MOWX7"
      },
      "execution_count": null,
      "outputs": []
    },
    {
      "cell_type": "code",
      "source": [
        "print(eviction_peak_pd.columns)"
      ],
      "metadata": {
        "colab": {
          "base_uri": "https://localhost:8080/"
        },
        "id": "l3ObP2NZZtMz",
        "outputId": "759849ec-ac0e-457f-ee63-f453ca8ff483"
      },
      "execution_count": null,
      "outputs": [
        {
          "output_type": "stream",
          "name": "stdout",
          "text": [
            "Index(['machine_id', 'job_id', 'time', 'time', 'missing_info', 'task_index',\n",
            "       'event_type', 'user', 'scheduling_class', 'priority', 'cpu_request',\n",
            "       'memory_request', 'disk_request', 'different_machine_restriction',\n",
            "       'cpu_threshold', 'memory_threshold', 'disk_threshold', 'resource_peak',\n",
            "       'machine_bin'],\n",
            "      dtype='object')\n"
          ]
        }
      ]
    },
    {
      "cell_type": "code",
      "source": [
        "eviction_peak_pd[\"machine_bin\"].value_counts()"
      ],
      "metadata": {
        "id": "-nJkpmjAPNhd"
      },
      "execution_count": null,
      "outputs": []
    },
    {
      "cell_type": "code",
      "source": [
        "bin1_machines = eviction_peak_pd[eviction_peak_pd[\"machine_bin\"] == \"Bin 1\"]\n",
        "print(bin1_machines)"
      ],
      "metadata": {
        "id": "6DuIdDCYPR1C"
      },
      "execution_count": null,
      "outputs": []
    },
    {
      "cell_type": "markdown",
      "source": [
        "# Additional Questions"
      ],
      "metadata": {
        "id": "OA-EIzPrasBb"
      }
    },
    {
      "cell_type": "markdown",
      "source": [
        "Question 8:\n",
        "\n",
        "What is the average resource usage (CPU and Memory) per scheduling class?"
      ],
      "metadata": {
        "id": "Jui-cx-ef6aU"
      }
    },
    {
      "cell_type": "code",
      "source": [
        "# Perform the join on job_id and task_index\n",
        "df_joined = df_tasks.join(\n",
        "    df_task_usage,\n",
        "    (df_tasks[\"job_id\"] == df_task_usage[\"job_id\"]) & (df_tasks[\"task_index\"] == df_task_usage[\"task_index\"]),\n",
        "    \"inner\"\n",
        ")\n",
        "\n",
        "# Select relevant columns\n",
        "\n",
        "df_joined = df_tasks.join(\n",
        "    df_task_usage,\n",
        "    (df_tasks[\"job_id\"] == df_task_usage[\"job_id\"]) & (df_tasks[\"task_index\"] == df_task_usage[\"task_index\"]),\n",
        "    \"inner\"\n",
        ").select(\n",
        "    df_tasks[\"job_id\"],\n",
        "    df_tasks[\"task_index\"],\n",
        "    df_tasks[\"scheduling_class\"],\n",
        "    df_tasks[\"cpu_request\"],\n",
        "    df_tasks[\"memory_request\"],\n",
        "    df_task_usage[\"cpu_rate\"],\n",
        "    df_task_usage[\"canonical_memory_usage\"]\n",
        ")\n",
        "\n",
        "# Show the first few rows of the joined DataFrame\n",
        "df_joined.show(5)\n"
      ],
      "metadata": {
        "colab": {
          "base_uri": "https://localhost:8080/"
        },
        "id": "0F7bQ38deJd8",
        "outputId": "7aafe23f-e8fc-4045-95d5-ca41e2b89dc0"
      },
      "execution_count": null,
      "outputs": [
        {
          "output_type": "stream",
          "name": "stdout",
          "text": [
            "+----------+----------+----------------+-----------+--------------+--------+----------------------+\n",
            "|    job_id|task_index|scheduling_class|cpu_request|memory_request|cpu_rate|canonical_memory_usage|\n",
            "+----------+----------+----------------+-----------+--------------+--------+----------------------+\n",
            "|5402488769|      1435|               1|   6.247E-4|      0.003883|4.578E-5|              9.279E-4|\n",
            "|5402488769|      1435|               1|   6.247E-4|      0.003883|4.482E-5|              9.298E-4|\n",
            "|5402488769|      1435|               1|   6.247E-4|      0.003883|4.482E-5|              9.279E-4|\n",
            "|5402488769|      1435|               1|   6.247E-4|      0.003883|4.482E-5|              9.298E-4|\n",
            "|5402488769|      1435|               1|   6.247E-4|      0.003883|4.578E-5|              9.279E-4|\n",
            "+----------+----------+----------------+-----------+--------------+--------+----------------------+\n",
            "only showing top 5 rows\n",
            "\n"
          ]
        }
      ]
    },
    {
      "cell_type": "code",
      "source": [
        "df_tasks.printSchema()\n"
      ],
      "metadata": {
        "colab": {
          "base_uri": "https://localhost:8080/"
        },
        "id": "pdTn6jZ5j-GQ",
        "outputId": "ad8d6aec-7abe-44f4-8f6f-ad6ca0cf84bb"
      },
      "execution_count": null,
      "outputs": [
        {
          "output_type": "stream",
          "name": "stdout",
          "text": [
            "root\n",
            " |-- time: long (nullable = true)\n",
            " |-- missing_info: string (nullable = true)\n",
            " |-- job_id: long (nullable = true)\n",
            " |-- task_index: integer (nullable = true)\n",
            " |-- machine_id: long (nullable = true)\n",
            " |-- event_type: integer (nullable = true)\n",
            " |-- user: string (nullable = true)\n",
            " |-- scheduling_class: integer (nullable = true)\n",
            " |-- priority: integer (nullable = true)\n",
            " |-- cpu_request: double (nullable = true)\n",
            " |-- memory_request: double (nullable = true)\n",
            " |-- disk_request: double (nullable = true)\n",
            " |-- different_machine_restriction: integer (nullable = true)\n",
            "\n"
          ]
        }
      ]
    },
    {
      "cell_type": "code",
      "source": [
        "# Aggregate to calculate average CPU and memory usage per scheduling class\n",
        "avg_usage_by_scheduling_class = (\n",
        "    df_joined.groupBy(\"scheduling_class\")\n",
        "    .agg(\n",
        "        avg(\"cpu_rate\").alias(\"avg_cpu_usage\"),\n",
        "        avg(\"canonical_memory_usage\").alias(\"avg_memory_usage\")\n",
        "    )\n",
        "    .orderBy(\"scheduling_class\")\n",
        ")\n",
        "\n",
        "# Show the results\n",
        "avg_usage_by_scheduling_class.show()\n",
        "\n",
        "# Convert to Pandas for easier visualization\n",
        "avg_usage_pd = avg_usage_by_scheduling_class.toPandas()\n",
        "\n",
        "# Plot the results\n",
        "import matplotlib.pyplot as plt\n",
        "\n",
        "plt.figure(figsize=(10, 6))\n",
        "plt.bar(avg_usage_pd[\"scheduling_class\"], avg_usage_pd[\"avg_cpu_usage\"], alpha=0.6, label=\"Average CPU Usage\")\n",
        "plt.bar(avg_usage_pd[\"scheduling_class\"], avg_usage_pd[\"avg_memory_usage\"], alpha=0.6, label=\"Average Memory Usage\")\n",
        "plt.title(\"Average Resource Usage per Scheduling Class\")\n",
        "plt.xlabel(\"Scheduling Class\")\n",
        "plt.ylabel(\"Average Usage (Normalized)\")\n",
        "plt.legend()\n",
        "plt.xticks(rotation=0)\n",
        "plt.tight_layout()\n",
        "plt.show()"
      ],
      "metadata": {
        "colab": {
          "base_uri": "https://localhost:8080/",
          "height": 763
        },
        "id": "ez32f0Dfj1YK",
        "outputId": "1633d88e-5c6f-47fd-c45f-e5e9513e75b3"
      },
      "execution_count": null,
      "outputs": [
        {
          "output_type": "stream",
          "name": "stdout",
          "text": [
            "+----------------+--------------------+--------------------+\n",
            "|scheduling_class|       avg_cpu_usage|    avg_memory_usage|\n",
            "+----------------+--------------------+--------------------+\n",
            "|               0|5.584011983104541E-4|7.086395782677773E-4|\n",
            "|               1|0.016011884409455945|0.010334927724614626|\n",
            "|               2|0.003649589790381...|0.001555516638198...|\n",
            "|               3|0.002117089006253...| 0.03901411471894051|\n",
            "+----------------+--------------------+--------------------+\n",
            "\n"
          ]
        },
        {
          "output_type": "display_data",
          "data": {
            "text/plain": [
              "<Figure size 1000x600 with 1 Axes>"
            ],
            "image/png": "[encoded data removed]"
          },
          "metadata": {}
        }
      ]
    },
    {
      "cell_type": "markdown",
      "source": [
        "Scheduling class 3 dominates, indicating that jobs in this scheduling class request and use significantly more memory compared to CPU resources."
      ],
      "metadata": {
        "id": "NlhsYBJpkm8V"
      }
    },
    {
      "cell_type": "markdown",
      "source": [
        "**Question 9:**\n",
        "\n",
        "Use machine learning to predict whether a task will be evicted based on its resource requests and utilization."
      ],
      "metadata": {
        "id": "oyU0bjCpcU5R"
      }
    },
    {
      "cell_type": "markdown",
      "source": [
        "## Prepare the Data\n",
        "\n",
        "Add a label column evicted and select the features for our model."
      ],
      "metadata": {
        "id": "6tfyPqL4eXtA"
      }
    },
    {
      "cell_type": "code",
      "source": [
        "print(df_tasks.columns)"
      ],
      "metadata": {
        "colab": {
          "base_uri": "https://localhost:8080/"
        },
        "id": "6lgebabKeynK",
        "outputId": "247204fc-ac3f-4dab-f052-fd29020b1b01"
      },
      "execution_count": null,
      "outputs": [
        {
          "output_type": "stream",
          "name": "stdout",
          "text": [
            "['time', 'missing_info', 'job_id', 'task_index', 'machine_id', 'event_type', 'user', 'scheduling_class', 'priority', 'cpu_request', 'memory_request', 'disk_request', 'different_machine_restriction', 'evicted']\n"
          ]
        }
      ]
    },
    {
      "cell_type": "code",
      "source": [
        "from pyspark.sql.functions import col, when\n",
        "\n",
        "# Step 1: Join df_tasks with df_task_usage\n",
        "df_tasks_combined = df_tasks.join(\n",
        "    df_task_usage,\n",
        "    (df_tasks[\"job_id\"] == df_task_usage[\"job_id\"]) &\n",
        "    (df_tasks[\"task_index\"] == df_task_usage[\"task_index\"]),\n",
        "    \"inner\"\n",
        ")\n",
        "\n",
        "# Step 2: Add 'evicted' label\n",
        "df_tasks_combined = df_tasks_combined.withColumn(\n",
        "    \"evicted\",\n",
        "    when(col(\"event_type\") == 2, 1).otherwise(0)\n",
        ")\n",
        "\n",
        "# Step 3: Select relevant columns for modeling\n",
        "df_model = df_tasks_combined.select(\n",
        "    \"cpu_request\",\n",
        "    \"memory_request\",\n",
        "    \"cpu_rate\",\n",
        "    \"canonical_memory_usage\",\n",
        "    \"disk_io_time\",\n",
        "    \"evicted\"\n",
        ")\n",
        "\n",
        "# Step 4: Verify the data\n",
        "df_model.show(5)\n"
      ],
      "metadata": {
        "id": "Lr6TZD1zkwMx",
        "colab": {
          "base_uri": "https://localhost:8080/"
        },
        "outputId": "34919890-f59f-4121-c95b-8be50d3cfe0e"
      },
      "execution_count": null,
      "outputs": [
        {
          "output_type": "stream",
          "name": "stdout",
          "text": [
            "+-----------+--------------+--------+----------------------+------------+-------+\n",
            "|cpu_request|memory_request|cpu_rate|canonical_memory_usage|disk_io_time|evicted|\n",
            "+-----------+--------------+--------+----------------------+------------+-------+\n",
            "|   6.247E-4|      0.003883|4.578E-5|              9.279E-4|    3.815E-6|      1|\n",
            "|   6.247E-4|      0.003883|4.482E-5|              9.298E-4|    2.861E-6|      1|\n",
            "|   6.247E-4|      0.003883|4.482E-5|              9.279E-4|    2.861E-6|      1|\n",
            "|   6.247E-4|      0.003883|4.482E-5|              9.298E-4|    3.815E-6|      1|\n",
            "|   6.247E-4|      0.003883|4.578E-5|              9.279E-4|    2.861E-6|      1|\n",
            "+-----------+--------------+--------+----------------------+------------+-------+\n",
            "only showing top 5 rows\n",
            "\n"
          ]
        }
      ]
    },
    {
      "cell_type": "markdown",
      "source": [
        "##Feature Vectorization\n",
        "\n",
        "Transform the selected features into a single vector column for the machine learning model."
      ],
      "metadata": {
        "id": "Bld7Lrftf9fg"
      }
    },
    {
      "cell_type": "code",
      "source": [
        "from pyspark.ml.feature import VectorAssembler\n",
        "\n",
        "# Define the feature columns\n",
        "feature_columns = [\"cpu_request\", \"memory_request\", \"cpu_rate\", \"canonical_memory_usage\", \"disk_io_time\"]\n",
        "\n",
        "# Assemble feature columns into a single vector column\n",
        "assembler = VectorAssembler(inputCols=feature_columns, outputCol=\"features\")\n",
        "\n",
        "# Apply the assembler\n",
        "df_model = assembler.transform(df_model)\n",
        "df_model.show(5)\n"
      ],
      "metadata": {
        "colab": {
          "base_uri": "https://localhost:8080/"
        },
        "id": "kVZced82f1s4",
        "outputId": "3ab80afa-9da8-41e1-d721-cf962a1232d2"
      },
      "execution_count": null,
      "outputs": [
        {
          "output_type": "stream",
          "name": "stdout",
          "text": [
            "+-----------+--------------+--------+----------------------+------------+-------+--------------------+\n",
            "|cpu_request|memory_request|cpu_rate|canonical_memory_usage|disk_io_time|evicted|            features|\n",
            "+-----------+--------------+--------+----------------------+------------+-------+--------------------+\n",
            "|   6.247E-4|      0.003883|4.578E-5|              9.279E-4|    3.815E-6|      1|[6.247E-4,0.00388...|\n",
            "|   6.247E-4|      0.003883|4.482E-5|              9.298E-4|    2.861E-6|      1|[6.247E-4,0.00388...|\n",
            "|   6.247E-4|      0.003883|4.482E-5|              9.279E-4|    2.861E-6|      1|[6.247E-4,0.00388...|\n",
            "|   6.247E-4|      0.003883|4.482E-5|              9.298E-4|    3.815E-6|      1|[6.247E-4,0.00388...|\n",
            "|   6.247E-4|      0.003883|4.578E-5|              9.279E-4|    2.861E-6|      1|[6.247E-4,0.00388...|\n",
            "+-----------+--------------+--------+----------------------+------------+-------+--------------------+\n",
            "only showing top 5 rows\n",
            "\n"
          ]
        }
      ]
    },
    {
      "cell_type": "markdown",
      "source": [
        "##Split the Data\n",
        "\n",
        "Split the data into training and testing datasets."
      ],
      "metadata": {
        "id": "AJKaYWpygEtp"
      }
    },
    {
      "cell_type": "code",
      "source": [
        "# Split the data into training (80%) and testing (20%) sets\n",
        "train_data, test_data = df_model.randomSplit([0.8, 0.2], seed=42)\n"
      ],
      "metadata": {
        "id": "y7iwdVYJgEWq"
      },
      "execution_count": null,
      "outputs": []
    },
    {
      "cell_type": "markdown",
      "source": [
        "##Train a Logistic Regression Model\n",
        "\n",
        "Train a logistic regression model to predict evictions."
      ],
      "metadata": {
        "id": "Xviesf84gNmT"
      }
    },
    {
      "cell_type": "code",
      "source": [
        "from pyspark.ml.classification import LogisticRegression\n",
        "\n",
        "# Define the logistic regression model\n",
        "lr = LogisticRegression(featuresCol=\"features\", labelCol=\"evicted\")\n",
        "\n",
        "# Train the model\n",
        "lr_model = lr.fit(train_data)\n",
        "\n",
        "# Print model coefficients and intercept\n",
        "print(f\"Coefficients: {lr_model.coefficients}\")\n",
        "print(f\"Intercept: {lr_model.intercept}\")\n"
      ],
      "metadata": {
        "colab": {
          "base_uri": "https://localhost:8080/"
        },
        "id": "BMLNj7g4gKji",
        "outputId": "0e459b9b-7c9b-4315-a63b-0323e6485f36"
      },
      "execution_count": null,
      "outputs": [
        {
          "output_type": "stream",
          "name": "stdout",
          "text": [
            "Coefficients: [-12.830368619262744,8.337459228652014,39.09434690294523,-0.35517984007121645,-98.6755279791796]\n",
            "Intercept: -1.0504449815733148\n"
          ]
        }
      ]
    },
    {
      "cell_type": "markdown",
      "source": [
        "##Make Predictions\n",
        "\n",
        "Use the trained model to make predictions on the test data."
      ],
      "metadata": {
        "id": "XQ1PfQJPgqd_"
      }
    },
    {
      "cell_type": "code",
      "source": [
        "# Make predictions on the test dataset\n",
        "predictions = lr_model.transform(test_data)\n",
        "\n",
        "# Show predictions\n",
        "predictions.select(\"features\", \"evicted\", \"prediction\", \"probability\").show(5)\n"
      ],
      "metadata": {
        "colab": {
          "base_uri": "https://localhost:8080/"
        },
        "id": "EC86goFTgR4K",
        "outputId": "95abdcfc-c1ac-4841-bda0-588dbab11471"
      },
      "execution_count": null,
      "outputs": [
        {
          "output_type": "stream",
          "name": "stdout",
          "text": [
            "+--------------------+-------+----------+--------------------+\n",
            "|            features|evicted|prediction|         probability|\n",
            "+--------------------+-------+----------+--------------------+\n",
            "|[6.247E-4,0.00388...|      0|       0.0|[0.73596751735144...|\n",
            "|[6.247E-4,0.00388...|      0|       0.0|[0.73592371300835...|\n",
            "|[6.247E-4,0.00388...|      0|       0.0|[0.73592371300835...|\n",
            "|[6.247E-4,0.00388...|      0|       0.0|[0.73594213822350...|\n",
            "|[6.247E-4,0.00388...|      0|       0.0|[0.73591649522944...|\n",
            "+--------------------+-------+----------+--------------------+\n",
            "only showing top 5 rows\n",
            "\n"
          ]
        }
      ]
    },
    {
      "cell_type": "markdown",
      "source": [
        "##Evaluate the Model\n",
        "\n",
        "Evaluate the model's performance using metrics like AUC and accuracy."
      ],
      "metadata": {
        "id": "1iAzeD8Ug2in"
      }
    },
    {
      "cell_type": "code",
      "source": [
        "from pyspark.ml.evaluation import BinaryClassificationEvaluator\n",
        "\n",
        "# Evaluate the model using Area Under the ROC Curve (AUC)\n",
        "evaluator = BinaryClassificationEvaluator(labelCol=\"evicted\", metricName=\"areaUnderROC\")\n",
        "roc_auc = evaluator.evaluate(predictions)\n",
        "\n",
        "print(f\"ROC-AUC: {roc_auc:.2f}\")\n",
        "\n",
        "# You can also evaluate accuracy, precision, or recall if needed\n"
      ],
      "metadata": {
        "colab": {
          "base_uri": "https://localhost:8080/"
        },
        "id": "sC0Twsl2gvXD",
        "outputId": "125c79a4-fa4d-4c21-b214-27e279c9475c"
      },
      "execution_count": null,
      "outputs": [
        {
          "output_type": "stream",
          "name": "stdout",
          "text": [
            "ROC-AUC: 0.66\n"
          ]
        }
      ]
    },
    {
      "cell_type": "markdown",
      "source": [
        "##Use Another Classifier\n",
        "\n",
        "Replace LogisticRegression with RandomForestClassifier:"
      ],
      "metadata": {
        "id": "SpmsfiyhhPyf"
      }
    },
    {
      "cell_type": "code",
      "source": [
        "from pyspark.ml.classification import RandomForestClassifier\n",
        "\n",
        "rf = RandomForestClassifier(featuresCol=\"features\", labelCol=\"evicted\", numTrees=20)\n",
        "rf_model = rf.fit(train_data)\n",
        "\n",
        "# Make predictions and evaluate\n",
        "predictions = rf_model.transform(test_data)\n",
        "roc_auc = evaluator.evaluate(predictions)\n",
        "print(f\"ROC-AUC (Random Forest): {roc_auc:.2f}\")\n"
      ],
      "metadata": {
        "colab": {
          "base_uri": "https://localhost:8080/"
        },
        "id": "936jg56HhIFW",
        "outputId": "c76888be-7a3f-400c-fcab-2cf9814b884d"
      },
      "execution_count": null,
      "outputs": [
        {
          "output_type": "stream",
          "name": "stdout",
          "text": [
            "ROC-AUC (Random Forest): 0.69\n"
          ]
        }
      ]
    },
    {
      "cell_type": "markdown",
      "source": [
        "##Feature Importance in Random Forest\n",
        "\n",
        "To understand which features are most influential in predicting evictions:"
      ],
      "metadata": {
        "id": "Dtc5w9qYikmp"
      }
    },
    {
      "cell_type": "code",
      "source": [
        "# Get feature importance\n",
        "import pandas as pd\n",
        "import matplotlib.pyplot as plt\n",
        "\n",
        "# Extract feature importance from the Random Forest model\n",
        "rf_feature_importance = rf_model.featureImportances.toArray()\n",
        "\n",
        "# Map feature importance to feature names\n",
        "feature_importance_df = pd.DataFrame({\n",
        "    'Feature': feature_columns,\n",
        "    'Importance': rf_feature_importance\n",
        "}).sort_values(by=\"Importance\", ascending=False)\n",
        "\n",
        "# Plot feature importance\n",
        "plt.figure(figsize=(10, 6))\n",
        "plt.barh(feature_importance_df[\"Feature\"], feature_importance_df[\"Importance\"], color=\"skyblue\")\n",
        "plt.xlabel(\"Importance\")\n",
        "plt.ylabel(\"Feature\")\n",
        "plt.title(\"Feature Importance from Random Forest\")\n",
        "plt.gca().invert_yaxis()\n",
        "plt.tight_layout()\n",
        "plt.show()\n"
      ],
      "metadata": {
        "colab": {
          "base_uri": "https://localhost:8080/",
          "height": 607
        },
        "id": "gpz99sGyifD-",
        "outputId": "7af8aafb-fdab-42a0-c5ac-93a84588d2fd"
      },
      "execution_count": null,
      "outputs": [
        {
          "output_type": "display_data",
          "data": {
            "text/plain": [
              "<Figure size 1000x600 with 1 Axes>"
            ],
            "image/png": "[encoded data removed]"
          },
          "metadata": {}
        }
      ]
    },
    {
      "cell_type": "markdown",
      "source": [
        "# Extension"
      ],
      "metadata": {
        "id": "QCmdacGqrN7G"
      }
    },
    {
      "cell_type": "code",
      "source": [
        "from pyspark.sql.functions import udf\n",
        "from pyspark.ml.linalg import DenseVector\n",
        "from pyspark.sql.types import ArrayType, DoubleType\n",
        "\n",
        "# UDF to convert DenseVector to Array\n",
        "vector_to_array_udf = udf(lambda vector: vector.toArray().tolist(), ArrayType(DoubleType()))\n",
        "\n",
        "# Convert the `features` column to an array\n",
        "df_model = df_model.withColumn(\"features_array\", vector_to_array_udf(col(\"features\")))\n",
        "\n",
        "# Extract individual features from the array\n",
        "df_export = df_model.select(\n",
        "    col(\"features_array\")[0].alias(\"cpu_request\"),\n",
        "    col(\"features_array\")[1].alias(\"memory_request\"),\n",
        "    col(\"features_array\")[2].alias(\"cpu_rate\"),\n",
        "    col(\"features_array\")[3].alias(\"canonical_memory_usage\"),\n",
        "    col(\"features_array\")[4].alias(\"disk_io_time\"),\n",
        "    col(\"evicted\")\n",
        ")\n",
        "\n",
        "# Save the processed data to a CSV file\n",
        "df_export.write.csv(\"eviction_data.csv\", header=True)\n"
      ],
      "metadata": {
        "id": "UsfWQZxFiuZH"
      },
      "execution_count": null,
      "outputs": []
    },
    {
      "cell_type": "code",
      "source": [
        "import os\n",
        "import pandas as pd\n",
        "\n",
        "# Path to the folder containing CSV parts\n",
        "folder_path = \"./eviction_data.csv\"\n",
        "\n",
        "# Combine all parts into a single DataFrame\n",
        "all_parts = [pd.read_csv(os.path.join(folder_path, f)) for f in os.listdir(folder_path) if f.endswith(\".csv\")]\n",
        "data = pd.concat(all_parts, ignore_index=True)\n",
        "\n",
        "# Proceed with your existing code\n",
        "X = data.drop(columns=[\"evicted\"])\n",
        "y = data[\"evicted\"]\n"
      ],
      "metadata": {
        "id": "LYQkZncwrXd_"
      },
      "execution_count": null,
      "outputs": []
    },
    {
      "cell_type": "code",
      "source": [
        "from sklearn.model_selection import train_test_split\n",
        "# Split into training and testing sets\n",
        "X_train, X_test, y_train, y_test = train_test_split(X, y, test_size=0.2, random_state=42)"
      ],
      "metadata": {
        "id": "Xp_b5ITQwSpU"
      },
      "execution_count": null,
      "outputs": []
    },
    {
      "cell_type": "markdown",
      "source": [
        "##Model Training and Evaluation\n",
        "(a) Scikit-learn\n",
        "*   Use Logistic Regression and Random Forest Classifier from scikit-learn.\n",
        "*   Compare AUC, precision, recall, and F1-score with Spark MLlib results."
      ],
      "metadata": {
        "id": "0TFYRArYw38l"
      }
    },
    {
      "cell_type": "code",
      "source": [
        "from sklearn.linear_model import LogisticRegression\n",
        "from sklearn.ensemble import RandomForestClassifier\n",
        "from sklearn.metrics import roc_auc_score, classification_report\n",
        "\n",
        "# Logistic Regression\n",
        "lr = LogisticRegression()\n",
        "lr.fit(X_train, y_train)\n",
        "lr_preds = lr.predict(X_test)\n",
        "print(\"Logistic Regression AUC:\", roc_auc_score(y_test, lr_preds))\n",
        "print(classification_report(y_test, lr_preds))\n",
        "\n",
        "# Random Forest\n",
        "rf = RandomForestClassifier(n_estimators=100)\n",
        "rf.fit(X_train, y_train)\n",
        "rf_preds = rf.predict(X_test)\n",
        "print(\"Random Forest AUC:\", roc_auc_score(y_test, rf_preds))\n",
        "print(classification_report(y_test, rf_preds))\n"
      ],
      "metadata": {
        "colab": {
          "base_uri": "https://localhost:8080/"
        },
        "id": "EoylbDnDwbAw",
        "outputId": "9ff815f8-2715-4d99-fe6a-0ee98ab66fd0"
      },
      "execution_count": null,
      "outputs": [
        {
          "output_type": "stream",
          "name": "stdout",
          "text": [
            "Logistic Regression AUC: 0.5023037755688828\n",
            "              precision    recall  f1-score   support\n",
            "\n",
            "           0       0.77      0.99      0.87    135176\n",
            "           1       0.31      0.01      0.03     40379\n",
            "\n",
            "    accuracy                           0.77    175555\n",
            "   macro avg       0.54      0.50      0.45    175555\n",
            "weighted avg       0.66      0.77      0.67    175555\n",
            "\n",
            "Random Forest AUC: 0.45444188023513604\n",
            "              precision    recall  f1-score   support\n",
            "\n",
            "           0       0.75      0.90      0.82    135176\n",
            "           1       0.02      0.01      0.01     40379\n",
            "\n",
            "    accuracy                           0.70    175555\n",
            "   macro avg       0.38      0.45      0.41    175555\n",
            "weighted avg       0.58      0.70      0.63    175555\n",
            "\n"
          ]
        }
      ]
    },
    {
      "cell_type": "markdown",
      "source": [
        "(b) TensorFlow\n",
        "\n",
        "*   Implement a simple neural network using TensorFlow/Keras.\n",
        "*   Evaluate its performance and compare it with Spark MLlib.\n",
        "\n"
      ],
      "metadata": {
        "id": "0C9oqXSFxxr1"
      }
    },
    {
      "cell_type": "code",
      "source": [
        "from tensorflow.keras.models import Sequential\n",
        "from tensorflow.keras.layers import Dense\n",
        "from tensorflow.keras.optimizers import Adam\n",
        "\n",
        "# Neural Network\n",
        "model = Sequential([\n",
        "    Dense(64, activation=\"relu\", input_shape=(X_train.shape[1],)),\n",
        "    Dense(32, activation=\"relu\"),\n",
        "    Dense(1, activation=\"sigmoid\")\n",
        "])\n",
        "\n",
        "model.compile(optimizer=Adam(), loss=\"binary_crossentropy\", metrics=[\"AUC\"])\n",
        "model.fit(X_train, y_train, epochs=10, batch_size=32, validation_split=0.2)\n",
        "\n",
        "# Evaluate on test set\n",
        "tf_preds = model.predict(X_test)\n",
        "print(\"Neural Network AUC:\", roc_auc_score(y_test, tf_preds))\n"
      ],
      "metadata": {
        "colab": {
          "base_uri": "https://localhost:8080/"
        },
        "id": "zt9i6j9oxt-8",
        "outputId": "77a9bdff-ca11-4b9b-c931-48ee190016b6"
      },
      "execution_count": null,
      "outputs": [
        {
          "output_type": "stream",
          "name": "stderr",
          "text": [
            "/usr/local/lib/python3.10/dist-packages/keras/src/layers/core/dense.py:87: UserWarning: Do not pass an `input_shape`/`input_dim` argument to a layer. When using Sequential models, prefer using an `Input(shape)` object as the first layer in the model instead.\n",
            "  super().__init__(activity_regularizer=activity_regularizer, **kwargs)\n"
          ]
        },
        {
          "output_type": "stream",
          "name": "stdout",
          "text": [
            "Epoch 1/10\n",
            "\u001b[1m17556/17556\u001b[0m \u001b[32m━━━━━━━━━━━━━━━━━━━━\u001b[0m\u001b[37m\u001b[0m \u001b[1m56s\u001b[0m 3ms/step - AUC: 0.6674 - loss: 0.4899 - val_AUC: 0.6932 - val_loss: 0.4692\n",
            "Epoch 2/10\n",
            "\u001b[1m17556/17556\u001b[0m \u001b[32m━━━━━━━━━━━━━━━━━━━━\u001b[0m\u001b[37m\u001b[0m \u001b[1m71s\u001b[0m 2ms/step - AUC: 0.6893 - loss: 0.4668 - val_AUC: 0.6919 - val_loss: 0.4649\n",
            "Epoch 3/10\n",
            "\u001b[1m17556/17556\u001b[0m \u001b[32m━━━━━━━━━━━━━━━━━━━━\u001b[0m\u001b[37m\u001b[0m \u001b[1m50s\u001b[0m 3ms/step - AUC: 0.6912 - loss: 0.4627 - val_AUC: 0.6952 - val_loss: 0.4616\n",
            "Epoch 4/10\n",
            "\u001b[1m17556/17556\u001b[0m \u001b[32m━━━━━━━━━━━━━━━━━━━━\u001b[0m\u001b[37m\u001b[0m \u001b[1m77s\u001b[0m 3ms/step - AUC: 0.6932 - loss: 0.4590 - val_AUC: 0.6971 - val_loss: 0.4587\n",
            "Epoch 5/10\n",
            "\u001b[1m17556/17556\u001b[0m \u001b[32m━━━━━━━━━━━━━━━━━━━━\u001b[0m\u001b[37m\u001b[0m \u001b[1m43s\u001b[0m 2ms/step - AUC: 0.6940 - loss: 0.4575 - val_AUC: 0.6988 - val_loss: 0.4576\n",
            "Epoch 6/10\n",
            "\u001b[1m17556/17556\u001b[0m \u001b[32m━━━━━━━━━━━━━━━━━━━━\u001b[0m\u001b[37m\u001b[0m \u001b[1m38s\u001b[0m 2ms/step - AUC: 0.6941 - loss: 0.4574 - val_AUC: 0.6987 - val_loss: 0.4579\n",
            "Epoch 7/10\n",
            "\u001b[1m17556/17556\u001b[0m \u001b[32m━━━━━━━━━━━━━━━━━━━━\u001b[0m\u001b[37m\u001b[0m \u001b[1m44s\u001b[0m 3ms/step - AUC: 0.6953 - loss: 0.4561 - val_AUC: 0.6991 - val_loss: 0.4587\n",
            "Epoch 8/10\n",
            "\u001b[1m17556/17556\u001b[0m \u001b[32m━━━━━━━━━━━━━━━━━━━━\u001b[0m\u001b[37m\u001b[0m \u001b[1m41s\u001b[0m 2ms/step - AUC: 0.6945 - loss: 0.4562 - val_AUC: 0.6989 - val_loss: 0.4553\n",
            "Epoch 9/10\n",
            "\u001b[1m17556/17556\u001b[0m \u001b[32m━━━━━━━━━━━━━━━━━━━━\u001b[0m\u001b[37m\u001b[0m \u001b[1m38s\u001b[0m 2ms/step - AUC: 0.6963 - loss: 0.4544 - val_AUC: 0.6985 - val_loss: 0.4568\n",
            "Epoch 10/10\n",
            "\u001b[1m17556/17556\u001b[0m \u001b[32m━━━━━━━━━━━━━━━━━━━━\u001b[0m\u001b[37m\u001b[0m \u001b[1m44s\u001b[0m 2ms/step - AUC: 0.6955 - loss: 0.4542 - val_AUC: 0.6997 - val_loss: 0.4547\n",
            "\u001b[1m5487/5487\u001b[0m \u001b[32m━━━━━━━━━━━━━━━━━━━━\u001b[0m\u001b[37m\u001b[0m \u001b[1m7s\u001b[0m 1ms/step\n",
            "Neural Network AUC: 0.7009256930534069\n"
          ]
        }
      ]
    },
    {
      "cell_type": "markdown",
      "source": [
        "(c) PyTorch\n",
        "\n",
        "Train a basic neural network and compare the results with the previous frameworks."
      ],
      "metadata": {
        "id": "mNyunUQEyXQ8"
      }
    },
    {
      "cell_type": "code",
      "source": [
        "import torch\n",
        "from torch import nn, optim\n",
        "from torch.utils.data import DataLoader, TensorDataset\n",
        "\n",
        "# Convert data to PyTorch tensors\n",
        "X_train_tensor = torch.tensor(X_train.values, dtype=torch.float32)\n",
        "y_train_tensor = torch.tensor(y_train.values, dtype=torch.float32)\n",
        "X_test_tensor = torch.tensor(X_test.values, dtype=torch.float32)\n",
        "y_test_tensor = torch.tensor(y_test.values, dtype=torch.float32)\n",
        "\n",
        "# Create DataLoader\n",
        "train_data = TensorDataset(X_train_tensor, y_train_tensor)\n",
        "train_loader = DataLoader(train_data, batch_size=32, shuffle=True)\n",
        "\n",
        "# Define the model\n",
        "class EvictionNN(nn.Module):\n",
        "    def __init__(self):\n",
        "        super(EvictionNN, self).__init__()\n",
        "        self.fc = nn.Sequential(\n",
        "            nn.Linear(X_train.shape[1], 64),\n",
        "            nn.ReLU(),\n",
        "            nn.Linear(64, 32),\n",
        "            nn.ReLU(),\n",
        "            nn.Linear(32, 1),\n",
        "            nn.Sigmoid()\n",
        "        )\n",
        "\n",
        "    def forward(self, x):\n",
        "        return self.fc(x)\n",
        "\n",
        "model = EvictionNN()\n",
        "criterion = nn.BCELoss()\n",
        "optimizer = optim.Adam(model.parameters())\n",
        "\n",
        "# Train the model\n",
        "for epoch in range(10):\n",
        "    for batch in train_loader:\n",
        "        X_batch, y_batch = batch\n",
        "        optimizer.zero_grad()\n",
        "        preds = model(X_batch).squeeze()\n",
        "        loss = criterion(preds, y_batch)\n",
        "        loss.backward()\n",
        "        optimizer.step()\n",
        "\n",
        "# Evaluate\n",
        "with torch.no_grad():\n",
        "    test_preds = model(X_test_tensor).squeeze()\n",
        "print(\"PyTorch AUC:\", roc_auc_score(y_test_tensor.numpy(), test_preds.numpy()))\n"
      ],
      "metadata": {
        "colab": {
          "base_uri": "https://localhost:8080/"
        },
        "id": "EihY36YPyW2K",
        "outputId": "f650c156-41ea-41e7-b8dc-84e2f3bb67df"
      },
      "execution_count": null,
      "outputs": [
        {
          "output_type": "stream",
          "name": "stdout",
          "text": [
            "PyTorch AUC: 0.7005786922805044\n"
          ]
        }
      ]
    }
  ],
  "metadata": {
    "colab": {
      "provenance": []
    },
    "kernelspec": {
      "display_name": "Python 3",
      "name": "python3"
    },
    "language_info": {
      "name": "python"
    }
  },
  "nbformat": 4,
  "nbformat_minor": 0
}